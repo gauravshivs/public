{
 "cells": [
  {
   "cell_type": "markdown",
   "metadata": {},
   "source": [
    "### Guide for Creating Jupyter Notebook Kernal\n",
    "1. Creating a Virtual Environment\n",
    "First, you need to create a virtual environment. You can do this using venv (standard library in Python 3.3 and later) or virtualenv (if you are using an older version of Python or prefer it). Here, we'll use venv.\n",
    "\n",
    "Open your terminal or command prompt and run the following commands:\n",
    "```python -m venv env```\n",
    "\n",
    "2. Activating the Virtual Environment\n",
    "Before installing packages or running Python commands in your virtual environment, you need to activate it:\n",
    "\n",
    "Windows ```.\\env\\Scripts\\activate```\n",
    "\n",
    "Mac ```source env/bin/activate```\n",
    "\n",
    "3. Creating a Jupyter Kernel for the Virtual Environment\n",
    "\n",
    "Install ipykernel if not already installed\n",
    "```pip install ipykernel```\n",
    "\n",
    "Create a Jupyter kernel for the virtual environment\n",
    "```python -m ipykernel install --user --name=myenv --display-name=\"trulens kernal\"```"
   ]
  },
  {
   "cell_type": "markdown",
   "metadata": {},
   "source": [
    "Install Libraries"
   ]
  },
  {
   "cell_type": "code",
   "execution_count": null,
   "metadata": {},
   "outputs": [],
   "source": [
    "#! pip install trulens_eval==0.22.2 chromadb==0.4.18 openai==1.3.7 ipython==8.21.0 ipywidgets==8.1.2 langchain-openai == 0.0.6 faiss-cpu==1.7.4 langchainhub==0.1.14"
   ]
  },
  {
   "cell_type": "markdown",
   "metadata": {},
   "source": [
    "Add API keys\n",
    "For this quickstart you will need an OpenAI Key."
   ]
  },
  {
   "cell_type": "code",
   "execution_count": 1,
   "metadata": {},
   "outputs": [],
   "source": [
    "import os\n",
    "os.environ[\"AZURE_OPENAI_API_KEY\"] = \"<azure-key>\"\n",
    "os.environ[\"AZURE_OPENAI_ENDPOINT\"] = \"<azure-endpoint>\"\n",
    "os.environ[\"OPENAI_API_VERSION\"] = \"2023-03-15-preview\"\n",
    "os.environ[\"OPENAI_API_TYPE\"] = \"azure\""
   ]
  },
  {
   "cell_type": "markdown",
   "metadata": {},
   "source": [
    "## TruLens Evaluations"
   ]
  },
  {
   "cell_type": "markdown",
   "metadata": {},
   "source": [
    "Import from TruLens"
   ]
  },
  {
   "cell_type": "code",
   "execution_count": 2,
   "metadata": {},
   "outputs": [
    {
     "name": "stdout",
     "output_type": "stream",
     "text": [
      "🦑 Tru initialized with db url sqlite:///default.sqlite .\n",
      "🛑 Secret keys may be written to the database. See the `database_redact_keys` option of `Tru` to prevent this.\n"
     ]
    }
   ],
   "source": [
    "# Create openai client\n",
    "from langchain_openai import AzureChatOpenAI\n",
    "\n",
    "# Imports main tools:\n",
    "from trulens_eval import Feedback, OpenAI as fOpenAI, Tru\n",
    "tru = Tru()\n",
    "tru.reset_database()"
   ]
  },
  {
   "cell_type": "markdown",
   "metadata": {},
   "source": [
    "Create a simple chat completion function <br> A question answer bot "
   ]
  },
  {
   "cell_type": "code",
   "execution_count": 3,
   "metadata": {},
   "outputs": [],
   "source": [
    "def llm_open_ai(prompt):\n",
    "    llm = AzureChatOpenAI(model_name='gpt-35-turbo',\n",
    "                            temperature=0)\n",
    "    return llm.predict(prompt)"
   ]
  },
  {
   "cell_type": "markdown",
   "metadata": {},
   "source": [
    "Define prompt and call function"
   ]
  },
  {
   "cell_type": "code",
   "execution_count": 8,
   "metadata": {},
   "outputs": [
    {
     "name": "stderr",
     "output_type": "stream",
     "text": [
      "/Users/gaurav.shivhare/anaconda3/lib/python3.11/site-packages/langchain_core/_api/deprecation.py:117: LangChainDeprecationWarning: The function `predict` was deprecated in LangChain 0.1.7 and will be removed in 0.2.0. Use invoke instead.\n",
      "  warn_deprecated(\n"
     ]
    },
    {
     "data": {
      "text/plain": [
       "\"Photosynthesis is the process by which green plants, algae, and some bacteria convert sunlight, carbon dioxide, and water into glucose (a type of sugar) and oxygen. It is a vital process for the survival of plants and other organisms that depend on them for food and oxygen. During photosynthesis, chlorophyll (a pigment found in chloroplasts) captures sunlight energy, which is then used to convert carbon dioxide and water into glucose. Oxygen is released as a byproduct of this process. Photosynthesis is responsible for maintaining the oxygen levels in the Earth's atmosphere and is the primary source of energy for most ecosystems.\""
      ]
     },
     "execution_count": 8,
     "metadata": {},
     "output_type": "execute_result"
    }
   ],
   "source": [
    "prompt_input= \"What is photo synthesis?\"\n",
    "prompt_output = llm_open_ai(prompt_input)\n",
    "prompt_output"
   ]
  },
  {
   "cell_type": "markdown",
   "metadata": {},
   "source": [
    "## Feedback Functions"
   ]
  },
  {
   "cell_type": "markdown",
   "metadata": {},
   "source": [
    "**Initialize Feedback Functions** <br>\n",
    "Feed Back Function Guide\n",
    "https://www.trulens.org/trulens_eval/feedback_function_guide/"
   ]
  },
  {
   "cell_type": "code",
   "execution_count": 5,
   "metadata": {},
   "outputs": [
    {
     "name": "stdout",
     "output_type": "stream",
     "text": [
      "✅ In Answer Relevance, input prompt will be set to __record__.main_input or `Select.RecordInput` .\n",
      "✅ In Answer Relevance, input response will be set to __record__.main_output or `Select.RecordOutput` .\n"
     ]
    }
   ],
   "source": [
    "from trulens_eval.feedback.provider import AzureOpenAI\n",
    "import numpy as np\n",
    "# Initialize AzureOpenAI-based feedback function collection class:\n",
    "azopenai = AzureOpenAI(\n",
    "    deployment_name=\"gpt-35-turbo\")\n",
    "\n",
    "# Question/answer relevance between overall question and answer.\n",
    "f_qa_relevance = Feedback(azopenai.relevance, name = \"Answer Relevance\").on_input_output()"
   ]
  },
  {
   "cell_type": "markdown",
   "metadata": {},
   "source": [
    "Want to know more feedback functions? <br>\n",
    "visit there [git](https://github.com/truera/trulens/tree/main/trulens_eval) <br> trulens_eval/trulens_eval/feedback/v2/feedback.py"
   ]
  },
  {
   "cell_type": "markdown",
   "metadata": {},
   "source": [
    "Instrument the callable for logging with TruLens"
   ]
  },
  {
   "cell_type": "code",
   "execution_count": 9,
   "metadata": {},
   "outputs": [],
   "source": [
    "from trulens_eval import TruBasicApp\n",
    "tru_llm_standalone_recorder = TruBasicApp(llm_open_ai, app_id=\"Trulens-demo\", feedbacks=[f_qa_relevance])"
   ]
  },
  {
   "cell_type": "code",
   "execution_count": 10,
   "metadata": {},
   "outputs": [
    {
     "name": "stderr",
     "output_type": "stream",
     "text": [
      "Callback class OpenAICallback is registered for handling create but there are no endpoints waiting to receive the result.\n"
     ]
    },
    {
     "name": "stderr",
     "output_type": "stream",
     "text": [
      "Callback class OpenAICallback is registered for handling create but there are no endpoints waiting to receive the result.\n"
     ]
    }
   ],
   "source": [
    "with tru_llm_standalone_recorder as recording:\n",
    "    tru_llm_standalone_recorder.app(prompt_input)\n"
   ]
  },
  {
   "cell_type": "markdown",
   "metadata": {},
   "source": [
    "Scores"
   ]
  },
  {
   "cell_type": "code",
   "execution_count": 9,
   "metadata": {},
   "outputs": [
    {
     "data": {
      "text/html": [
       "<div>\n",
       "<style scoped>\n",
       "    .dataframe tbody tr th:only-of-type {\n",
       "        vertical-align: middle;\n",
       "    }\n",
       "\n",
       "    .dataframe tbody tr th {\n",
       "        vertical-align: top;\n",
       "    }\n",
       "\n",
       "    .dataframe thead th {\n",
       "        text-align: right;\n",
       "    }\n",
       "</style>\n",
       "<table border=\"1\" class=\"dataframe\">\n",
       "  <thead>\n",
       "    <tr style=\"text-align: right;\">\n",
       "      <th></th>\n",
       "      <th>input</th>\n",
       "      <th>output</th>\n",
       "      <th>Answer Relevance</th>\n",
       "    </tr>\n",
       "  </thead>\n",
       "  <tbody>\n",
       "    <tr>\n",
       "      <th>0</th>\n",
       "      <td>\"What is photo synthesis?\"</td>\n",
       "      <td>\"Photosynthesis is the process by which green ...</td>\n",
       "      <td>1.0</td>\n",
       "    </tr>\n",
       "  </tbody>\n",
       "</table>\n",
       "</div>"
      ],
      "text/plain": [
       "                        input  \\\n",
       "0  \"What is photo synthesis?\"   \n",
       "\n",
       "                                              output  Answer Relevance  \n",
       "0  \"Photosynthesis is the process by which green ...               1.0  "
      ]
     },
     "execution_count": 9,
     "metadata": {},
     "output_type": "execute_result"
    }
   ],
   "source": [
    "tru.get_records_and_feedback(app_ids=[])[0][['input','output','Answer Relevance']]"
   ]
  },
  {
   "cell_type": "markdown",
   "metadata": {},
   "source": [
    "Complete Results"
   ]
  },
  {
   "cell_type": "code",
   "execution_count": 10,
   "metadata": {},
   "outputs": [
    {
     "data": {
      "text/html": [
       "<div>\n",
       "<style scoped>\n",
       "    .dataframe tbody tr th:only-of-type {\n",
       "        vertical-align: middle;\n",
       "    }\n",
       "\n",
       "    .dataframe tbody tr th {\n",
       "        vertical-align: top;\n",
       "    }\n",
       "\n",
       "    .dataframe thead th {\n",
       "        text-align: right;\n",
       "    }\n",
       "</style>\n",
       "<table border=\"1\" class=\"dataframe\">\n",
       "  <thead>\n",
       "    <tr style=\"text-align: right;\">\n",
       "      <th></th>\n",
       "      <th>app_id</th>\n",
       "      <th>app_json</th>\n",
       "      <th>type</th>\n",
       "      <th>record_id</th>\n",
       "      <th>input</th>\n",
       "      <th>output</th>\n",
       "      <th>tags</th>\n",
       "      <th>record_json</th>\n",
       "      <th>cost_json</th>\n",
       "      <th>perf_json</th>\n",
       "      <th>ts</th>\n",
       "      <th>Answer Relevance</th>\n",
       "      <th>Answer Relevance_calls</th>\n",
       "      <th>latency</th>\n",
       "      <th>total_tokens</th>\n",
       "      <th>total_cost</th>\n",
       "    </tr>\n",
       "  </thead>\n",
       "  <tbody>\n",
       "    <tr>\n",
       "      <th>0</th>\n",
       "      <td>Training_20Feb</td>\n",
       "      <td>{\"tru_class_info\": {\"name\": \"TruBasicApp\", \"mo...</td>\n",
       "      <td>TruWrapperApp(trulens_eval.tru_basic_app)</td>\n",
       "      <td>record_hash_3f662b4be16f606cd4a715cedb637508</td>\n",
       "      <td>\"What is photo synthesis?\"</td>\n",
       "      <td>\"Photosynthesis is the process by which green ...</td>\n",
       "      <td>-</td>\n",
       "      <td>{\"record_id\": \"record_hash_3f662b4be16f606cd4a...</td>\n",
       "      <td>{\"n_requests\": 0, \"n_successful_requests\": 0, ...</td>\n",
       "      <td>{\"start_time\": \"2024-02-20T13:28:44.139906\", \"...</td>\n",
       "      <td>2024-02-20T13:28:45.246642</td>\n",
       "      <td>1.0</td>\n",
       "      <td>[{'args': {'prompt': 'What is photo synthesis?...</td>\n",
       "      <td>1</td>\n",
       "      <td>0</td>\n",
       "      <td>0.0</td>\n",
       "    </tr>\n",
       "  </tbody>\n",
       "</table>\n",
       "</div>"
      ],
      "text/plain": [
       "           app_id                                           app_json  \\\n",
       "0  Training_20Feb  {\"tru_class_info\": {\"name\": \"TruBasicApp\", \"mo...   \n",
       "\n",
       "                                        type  \\\n",
       "0  TruWrapperApp(trulens_eval.tru_basic_app)   \n",
       "\n",
       "                                      record_id                       input  \\\n",
       "0  record_hash_3f662b4be16f606cd4a715cedb637508  \"What is photo synthesis?\"   \n",
       "\n",
       "                                              output tags  \\\n",
       "0  \"Photosynthesis is the process by which green ...    -   \n",
       "\n",
       "                                         record_json  \\\n",
       "0  {\"record_id\": \"record_hash_3f662b4be16f606cd4a...   \n",
       "\n",
       "                                           cost_json  \\\n",
       "0  {\"n_requests\": 0, \"n_successful_requests\": 0, ...   \n",
       "\n",
       "                                           perf_json  \\\n",
       "0  {\"start_time\": \"2024-02-20T13:28:44.139906\", \"...   \n",
       "\n",
       "                           ts  Answer Relevance  \\\n",
       "0  2024-02-20T13:28:45.246642               1.0   \n",
       "\n",
       "                              Answer Relevance_calls  latency  total_tokens  \\\n",
       "0  [{'args': {'prompt': 'What is photo synthesis?...        1             0   \n",
       "\n",
       "   total_cost  \n",
       "0         0.0  "
      ]
     },
     "execution_count": 10,
     "metadata": {},
     "output_type": "execute_result"
    }
   ],
   "source": [
    "tru.get_records_and_feedback(app_ids=[])[0]"
   ]
  },
  {
   "cell_type": "markdown",
   "metadata": {},
   "source": [
    "A dashboard?\n"
   ]
  },
  {
   "cell_type": "code",
   "execution_count": 26,
   "metadata": {},
   "outputs": [
    {
     "name": "stdout",
     "output_type": "stream",
     "text": [
      "Starting dashboard ...\n",
      "Config file already exists. Skipping writing process.\n",
      "Credentials file already exists. Skipping writing process.\n"
     ]
    },
    {
     "data": {
      "application/vnd.jupyter.widget-view+json": {
       "model_id": "c239828b9c5946538c0d2faba7cd3ae3",
       "version_major": 2,
       "version_minor": 0
      },
      "text/plain": [
       "Accordion(children=(VBox(children=(VBox(children=(Label(value='STDOUT'), Output())), VBox(children=(Label(valu…"
      ]
     },
     "metadata": {},
     "output_type": "display_data"
    },
    {
     "name": "stdout",
     "output_type": "stream",
     "text": [
      "Dashboard started at http://192.168.0.170:8501 .\n"
     ]
    },
    {
     "data": {
      "text/plain": [
       "<Popen: returncode: None args: ['streamlit', 'run', '--server.headless=True'...>"
      ]
     },
     "execution_count": 26,
     "metadata": {},
     "output_type": "execute_result"
    }
   ],
   "source": [
    "tru.run_dashboard() # open a local streamlit app to explore\n",
    "\n",
    "# tru.stop_dashboard() # stop if needed"
   ]
  },
  {
   "cell_type": "markdown",
   "metadata": {},
   "source": [
    "### Don't want to use recorder ?"
   ]
  },
  {
   "cell_type": "code",
   "execution_count": 12,
   "metadata": {},
   "outputs": [
    {
     "name": "stdout",
     "output_type": "stream",
     "text": [
      "Good Answer 1.0\n",
      "Bad Answer 0.0\n"
     ]
    }
   ],
   "source": [
    "prompt_input = \"What is the process of photosynthesis?\"\n",
    "Relevant_Answer = \"Photosynthesis is a process used by plants, algae, and certain bacteria to convert light energy into chemical energy stored in glucose or other sugars. This process involves the absorption of carbon dioxide (CO2), water (H2O), and light energy, primarily from the sun. Through a series of reactions known as the light-dependent and light-independent (Calvin cycle) reactions, these inputs are transformed into glucose and oxygen (O2). The overall chemical equation for photosynthesis can be summarized as 6CO2 + 6H2O + light energy → C6H12O6 + 6O2.\"\n",
    "Irrelevant_Answer = \"Photosynthesis is a method used by animals to digest food. It involves the stomach and intestines breaking down food into nutrients that the body can use for energy, growth, and repair. This process is crucial for the survival of animals and requires a complex digestive system.\"\n",
    "print('Good Answer',azopenai.relevance(prompt_input, Relevant_Answer))\n",
    "print('Bad Answer',azopenai.relevance(prompt_input, Irrelevant_Answer))"
   ]
  },
  {
   "cell_type": "markdown",
   "metadata": {},
   "source": [
    "## Other Evaluation Metrics\n",
    "https://www.trulens.org/trulens_eval/api/providers/"
   ]
  },
  {
   "cell_type": "code",
   "execution_count": 14,
   "metadata": {},
   "outputs": [
    {
     "name": "stdout",
     "output_type": "stream",
     "text": [
      "✅ In Coherence, input text will be set to __record__.main_output or `Select.RecordOutput` .\n",
      "✅ In Input Sentiment, input text will be set to __record__.main_input or `Select.RecordInput` .\n",
      "✅ In Output Sentiment, input text will be set to __record__.main_output or `Select.RecordOutput` .\n",
      "✅ In Language Match, input text1 will be set to __record__.main_input or `Select.RecordInput` .\n",
      "✅ In Language Match, input text2 will be set to __record__.main_output or `Select.RecordOutput` .\n"
     ]
    }
   ],
   "source": [
    "from trulens_eval import Feedback\n",
    "from trulens_eval.feedback.provider import OpenAI\n",
    "from trulens_eval.feedback.provider import Huggingface\n",
    "# Initialize provider classes\n",
    "provider = azopenai = AzureOpenAI(\n",
    "    deployment_name=\"gpt-35-turbo\")\n",
    "hugs_provider = Huggingface()\n",
    "\n",
    "# LLM-based feedback functions\n",
    "f_coherence = Feedback(\n",
    "    provider.coherence_with_cot_reasons, name=\"Coherence\"\n",
    "    ).on_output()\n",
    "\n",
    "f_input_sentiment = Feedback(\n",
    "    provider.sentiment_with_cot_reasons, name=\"Input Sentiment\"\n",
    "    ).on_input()\n",
    "\n",
    "f_output_sentiment = Feedback(\n",
    "    provider.sentiment_with_cot_reasons, name=\"Output Sentiment\"\n",
    "    ).on_output()\n",
    "        \n",
    "f_langmatch = Feedback(\n",
    "    hugs_provider.language_match, name=\"Language Match\"\n",
    "    ).on_input_output()\n",
    "\n",
    "helpful_feedbacks = [\n",
    "    f_coherence,\n",
    "    f_input_sentiment,\n",
    "    f_output_sentiment,\n",
    "    f_langmatch,\n",
    "    ]"
   ]
  },
  {
   "cell_type": "code",
   "execution_count": 15,
   "metadata": {},
   "outputs": [],
   "source": [
    "helpful_evals = [\n",
    "    \"What types of insurance are commonly used to protect against property damage?\",\n",
    "    \"¿Cuál es la diferencia entre un seguro de vida y un seguro de salud?\",\n",
    "    \"Comment fonctionne l'assurance automobile en cas d'accident?\",\n",
    "    \"Welche Arten von Versicherungen sind in Deutschland gesetzlich vorgeschrieben?\",\n",
    "    \"保险如何保护财产损失？\",\n",
    "    \"Каковы основные виды страхования в России?\",\n",
    "    \"ما هو التأمين على الحياة وما هي فوائده؟\",\n",
    "    \"自動車保険の種類とは何ですか？\",\n",
    "    \"Como funciona o seguro de saúde em Portugal?\",\n",
    "    \"बीमा क्या होता है और यह कितने प्रकार का होता है?\"\n",
    "]"
   ]
  },
  {
   "cell_type": "code",
   "execution_count": 16,
   "metadata": {},
   "outputs": [],
   "source": [
    "tru_llm_standalone_recorder = TruBasicApp(llm_open_ai, app_id=\"Training_20Feb_helpful\", feedbacks=helpful_feedbacks)"
   ]
  },
  {
   "cell_type": "code",
   "execution_count": 17,
   "metadata": {},
   "outputs": [
    {
     "name": "stderr",
     "output_type": "stream",
     "text": [
      "Callback class OpenAICallback is registered for handling create but there are no endpoints waiting to receive the result.\n",
      "App Training_20Feb_helpful was not present in database. Adding it.\n",
      "Callback class OpenAICallback is registered for handling create but there are no endpoints waiting to receive the result.\n",
      "Callback class OpenAICallback is registered for handling create but there are no endpoints waiting to receive the result.\n",
      "Callback class OpenAICallback is registered for handling create but there are no endpoints waiting to receive the result.\n",
      "Callback class OpenAICallback is registered for handling create but there are no endpoints waiting to receive the result.\n",
      "Callback class OpenAICallback is registered for handling create but there are no endpoints waiting to receive the result.\n",
      "Callback class OpenAICallback is registered for handling create but there are no endpoints waiting to receive the result.\n",
      "Callback class OpenAICallback is registered for handling create but there are no endpoints waiting to receive the result.\n",
      "Callback class OpenAICallback is registered for handling create but there are no endpoints waiting to receive the result.\n",
      "Callback class OpenAICallback is registered for handling create but there are no endpoints waiting to receive the result.\n",
      "Callback class OpenAICallback is registered for handling create but there are no endpoints waiting to receive the result.\n",
      "Callback class OpenAICallback is registered for handling create but there are no endpoints waiting to receive the result.\n",
      "Callback class OpenAICallback is registered for handling create but there are no endpoints waiting to receive the result.\n",
      "Callback class OpenAICallback is registered for handling create but there are no endpoints waiting to receive the result.\n",
      "Callback class OpenAICallback is registered for handling create but there are no endpoints waiting to receive the result.\n",
      "Callback class OpenAICallback is registered for handling create but there are no endpoints waiting to receive the result.\n",
      "Callback class OpenAICallback is registered for handling create but there are no endpoints waiting to receive the result.\n",
      "Callback class OpenAICallback is registered for handling create but there are no endpoints waiting to receive the result.\n",
      "Callback class OpenAICallback is registered for handling create but there are no endpoints waiting to receive the result.\n",
      "Callback class OpenAICallback is registered for handling create but there are no endpoints waiting to receive the result.\n",
      "Callback class OpenAICallback is registered for handling create but there are no endpoints waiting to receive the result.\n",
      "Waiting for {'error': 'Model papluca/xlm-roberta-base-language-detection is currently loading', 'estimated_time': 44.4896125793457} (44.4896125793457) second(s).\n",
      "Waiting for {'error': 'Model papluca/xlm-roberta-base-language-detection is currently loading', 'estimated_time': 44.4896125793457} (44.4896125793457) second(s).\n",
      "Callback class OpenAICallback is registered for handling create but there are no endpoints waiting to receive the result.\n",
      "Callback class OpenAICallback is registered for handling create but there are no endpoints waiting to receive the result.\n",
      "Callback class OpenAICallback is registered for handling create but there are no endpoints waiting to receive the result.\n",
      "Callback class OpenAICallback is registered for handling create but there are no endpoints waiting to receive the result.\n",
      "Waiting for {'error': 'Model papluca/xlm-roberta-base-language-detection is currently loading', 'estimated_time': 44.4896125793457} (44.4896125793457) second(s).\n",
      "Waiting for {'error': 'Model papluca/xlm-roberta-base-language-detection is currently loading', 'estimated_time': 44.4896125793457} (44.4896125793457) second(s).\n",
      "Callback class OpenAICallback is registered for handling create but there are no endpoints waiting to receive the result.\n",
      "Callback class OpenAICallback is registered for handling create but there are no endpoints waiting to receive the result.\n",
      "Callback class OpenAICallback is registered for handling create but there are no endpoints waiting to receive the result.\n",
      "Callback class OpenAICallback is registered for handling create but there are no endpoints waiting to receive the result.\n",
      "Waiting for {'error': 'Model papluca/xlm-roberta-base-language-detection is currently loading', 'estimated_time': 44.4896125793457} (44.4896125793457) second(s).\n",
      "Waiting for {'error': 'Model papluca/xlm-roberta-base-language-detection is currently loading', 'estimated_time': 44.4896125793457} (44.4896125793457) second(s).\n",
      "Callback class OpenAICallback is registered for handling create but there are no endpoints waiting to receive the result.\n",
      "Callback class OpenAICallback is registered for handling create but there are no endpoints waiting to receive the result.\n",
      "Callback class OpenAICallback is registered for handling create but there are no endpoints waiting to receive the result.\n",
      "Callback class OpenAICallback is registered for handling create but there are no endpoints waiting to receive the result.\n",
      "Callback class OpenAICallback is registered for handling create but there are no endpoints waiting to receive the result.\n",
      "Callback class OpenAICallback is registered for handling create but there are no endpoints waiting to receive the result.\n",
      "Callback class OpenAICallback is registered for handling create but there are no endpoints waiting to receive the result.\n",
      "Callback class OpenAICallback is registered for handling create but there are no endpoints waiting to receive the result.\n"
     ]
    }
   ],
   "source": [
    "tru.reset_database()\n",
    "with tru_llm_standalone_recorder as recording:\n",
    "    for prompt_input in helpful_evals:\n",
    "        tru_llm_standalone_recorder.app(prompt_input)"
   ]
  },
  {
   "cell_type": "markdown",
   "metadata": {},
   "source": [
    "### Output"
   ]
  },
  {
   "cell_type": "code",
   "execution_count": 19,
   "metadata": {},
   "outputs": [
    {
     "data": {
      "text/html": [
       "<div>\n",
       "<style scoped>\n",
       "    .dataframe tbody tr th:only-of-type {\n",
       "        vertical-align: middle;\n",
       "    }\n",
       "\n",
       "    .dataframe tbody tr th {\n",
       "        vertical-align: top;\n",
       "    }\n",
       "\n",
       "    .dataframe thead th {\n",
       "        text-align: right;\n",
       "    }\n",
       "</style>\n",
       "<table border=\"1\" class=\"dataframe\">\n",
       "  <thead>\n",
       "    <tr style=\"text-align: right;\">\n",
       "      <th></th>\n",
       "      <th>input</th>\n",
       "      <th>output</th>\n",
       "      <th>Language Match</th>\n",
       "      <th>Input Sentiment</th>\n",
       "      <th>Output Sentiment</th>\n",
       "      <th>Coherence</th>\n",
       "    </tr>\n",
       "  </thead>\n",
       "  <tbody>\n",
       "    <tr>\n",
       "      <th>0</th>\n",
       "      <td>\"What types of insurance are commonly used to ...</td>\n",
       "      <td>\"Some types of insurance commonly used to prot...</td>\n",
       "      <td>0.962431</td>\n",
       "      <td>1.0</td>\n",
       "      <td>1.0</td>\n",
       "      <td>0.9</td>\n",
       "    </tr>\n",
       "    <tr>\n",
       "      <th>1</th>\n",
       "      <td>\"\\u00bfCu\\u00e1l es la diferencia entre un seg...</td>\n",
       "      <td>\"La principal diferencia entre un seguro de vi...</td>\n",
       "      <td>0.994292</td>\n",
       "      <td>0.0</td>\n",
       "      <td>1.0</td>\n",
       "      <td>0.9</td>\n",
       "    </tr>\n",
       "    <tr>\n",
       "      <th>2</th>\n",
       "      <td>\"Comment fonctionne l'assurance automobile en ...</td>\n",
       "      <td>\"Lorsqu'un accident de voiture se produit, l'a...</td>\n",
       "      <td>0.996474</td>\n",
       "      <td>0.8</td>\n",
       "      <td>1.0</td>\n",
       "      <td>0.9</td>\n",
       "    </tr>\n",
       "    <tr>\n",
       "      <th>3</th>\n",
       "      <td>\"Welche Arten von Versicherungen sind in Deuts...</td>\n",
       "      <td>\"In Deutschland sind folgende Arten von Versic...</td>\n",
       "      <td>0.998893</td>\n",
       "      <td>0.0</td>\n",
       "      <td>1.0</td>\n",
       "      <td>0.9</td>\n",
       "    </tr>\n",
       "    <tr>\n",
       "      <th>4</th>\n",
       "      <td>\"\\u4fdd\\u9669\\u5982\\u4f55\\u4fdd\\u62a4\\u8d22\\u4...</td>\n",
       "      <td>\"\\u4fdd\\u9669\\u53ef\\u4ee5\\u901a\\u8fc7\\u4ee5\\u4...</td>\n",
       "      <td>0.969234</td>\n",
       "      <td>1.0</td>\n",
       "      <td>1.0</td>\n",
       "      <td>0.8</td>\n",
       "    </tr>\n",
       "    <tr>\n",
       "      <th>5</th>\n",
       "      <td>\"\\u041a\\u0430\\u043a\\u043e\\u0432\\u044b \\u043e\\u...</td>\n",
       "      <td>\"\\u0412 \\u0420\\u043e\\u0441\\u0441\\u0438\\u0438 \\...</td>\n",
       "      <td>NaN</td>\n",
       "      <td>0.8</td>\n",
       "      <td>1.0</td>\n",
       "      <td>0.8</td>\n",
       "    </tr>\n",
       "    <tr>\n",
       "      <th>6</th>\n",
       "      <td>\"\\u0645\\u0627 \\u0647\\u0648 \\u0627\\u0644\\u062a\\...</td>\n",
       "      <td>\"\\u0627\\u0644\\u062a\\u0623\\u0645\\u064a\\u0646 \\u...</td>\n",
       "      <td>NaN</td>\n",
       "      <td>0.8</td>\n",
       "      <td>1.0</td>\n",
       "      <td>0.8</td>\n",
       "    </tr>\n",
       "    <tr>\n",
       "      <th>7</th>\n",
       "      <td>\"\\u81ea\\u52d5\\u8eca\\u4fdd\\u967a\\u306e\\u7a2e\\u9...</td>\n",
       "      <td>\"\\u81ea\\u52d5\\u8eca\\u4fdd\\u967a\\u306b\\u306f\\u3...</td>\n",
       "      <td>NaN</td>\n",
       "      <td>0.8</td>\n",
       "      <td>1.0</td>\n",
       "      <td>0.9</td>\n",
       "    </tr>\n",
       "    <tr>\n",
       "      <th>8</th>\n",
       "      <td>\"Como funciona o seguro de sa\\u00fade em Portu...</td>\n",
       "      <td>\"O seguro de sa\\u00fade em Portugal funciona d...</td>\n",
       "      <td>0.999182</td>\n",
       "      <td>0.8</td>\n",
       "      <td>0.8</td>\n",
       "      <td>0.8</td>\n",
       "    </tr>\n",
       "    <tr>\n",
       "      <th>9</th>\n",
       "      <td>\"\\u092c\\u0940\\u092e\\u093e \\u0915\\u094d\\u092f\\u...</td>\n",
       "      <td>\"\\u092c\\u0940\\u092e\\u093e \\u090f\\u0915 \\u0935\\...</td>\n",
       "      <td>0.999571</td>\n",
       "      <td>0.0</td>\n",
       "      <td>1.0</td>\n",
       "      <td>0.8</td>\n",
       "    </tr>\n",
       "  </tbody>\n",
       "</table>\n",
       "</div>"
      ],
      "text/plain": [
       "                                               input  \\\n",
       "0  \"What types of insurance are commonly used to ...   \n",
       "1  \"\\u00bfCu\\u00e1l es la diferencia entre un seg...   \n",
       "2  \"Comment fonctionne l'assurance automobile en ...   \n",
       "3  \"Welche Arten von Versicherungen sind in Deuts...   \n",
       "4  \"\\u4fdd\\u9669\\u5982\\u4f55\\u4fdd\\u62a4\\u8d22\\u4...   \n",
       "5  \"\\u041a\\u0430\\u043a\\u043e\\u0432\\u044b \\u043e\\u...   \n",
       "6  \"\\u0645\\u0627 \\u0647\\u0648 \\u0627\\u0644\\u062a\\...   \n",
       "7  \"\\u81ea\\u52d5\\u8eca\\u4fdd\\u967a\\u306e\\u7a2e\\u9...   \n",
       "8  \"Como funciona o seguro de sa\\u00fade em Portu...   \n",
       "9  \"\\u092c\\u0940\\u092e\\u093e \\u0915\\u094d\\u092f\\u...   \n",
       "\n",
       "                                              output  Language Match  \\\n",
       "0  \"Some types of insurance commonly used to prot...        0.962431   \n",
       "1  \"La principal diferencia entre un seguro de vi...        0.994292   \n",
       "2  \"Lorsqu'un accident de voiture se produit, l'a...        0.996474   \n",
       "3  \"In Deutschland sind folgende Arten von Versic...        0.998893   \n",
       "4  \"\\u4fdd\\u9669\\u53ef\\u4ee5\\u901a\\u8fc7\\u4ee5\\u4...        0.969234   \n",
       "5  \"\\u0412 \\u0420\\u043e\\u0441\\u0441\\u0438\\u0438 \\...             NaN   \n",
       "6  \"\\u0627\\u0644\\u062a\\u0623\\u0645\\u064a\\u0646 \\u...             NaN   \n",
       "7  \"\\u81ea\\u52d5\\u8eca\\u4fdd\\u967a\\u306b\\u306f\\u3...             NaN   \n",
       "8  \"O seguro de sa\\u00fade em Portugal funciona d...        0.999182   \n",
       "9  \"\\u092c\\u0940\\u092e\\u093e \\u090f\\u0915 \\u0935\\...        0.999571   \n",
       "\n",
       "   Input Sentiment  Output Sentiment  Coherence  \n",
       "0              1.0               1.0        0.9  \n",
       "1              0.0               1.0        0.9  \n",
       "2              0.8               1.0        0.9  \n",
       "3              0.0               1.0        0.9  \n",
       "4              1.0               1.0        0.8  \n",
       "5              0.8               1.0        0.8  \n",
       "6              0.8               1.0        0.8  \n",
       "7              0.8               1.0        0.9  \n",
       "8              0.8               0.8        0.8  \n",
       "9              0.0               1.0        0.8  "
      ]
     },
     "execution_count": 19,
     "metadata": {},
     "output_type": "execute_result"
    }
   ],
   "source": [
    "tru.get_records_and_feedback(app_ids=[])[0][['input','output','Language Match','Input Sentiment','Output Sentiment','Coherence']] "
   ]
  },
  {
   "cell_type": "code",
   "execution_count": 20,
   "metadata": {},
   "outputs": [
    {
     "data": {
      "text/html": [
       "<div>\n",
       "<style scoped>\n",
       "    .dataframe tbody tr th:only-of-type {\n",
       "        vertical-align: middle;\n",
       "    }\n",
       "\n",
       "    .dataframe tbody tr th {\n",
       "        vertical-align: top;\n",
       "    }\n",
       "\n",
       "    .dataframe thead th {\n",
       "        text-align: right;\n",
       "    }\n",
       "</style>\n",
       "<table border=\"1\" class=\"dataframe\">\n",
       "  <thead>\n",
       "    <tr style=\"text-align: right;\">\n",
       "      <th></th>\n",
       "      <th>app_id</th>\n",
       "      <th>app_json</th>\n",
       "      <th>type</th>\n",
       "      <th>record_id</th>\n",
       "      <th>input</th>\n",
       "      <th>output</th>\n",
       "      <th>tags</th>\n",
       "      <th>record_json</th>\n",
       "      <th>cost_json</th>\n",
       "      <th>perf_json</th>\n",
       "      <th>...</th>\n",
       "      <th>Input Sentiment</th>\n",
       "      <th>Output Sentiment</th>\n",
       "      <th>Coherence</th>\n",
       "      <th>Language Match_calls</th>\n",
       "      <th>Input Sentiment_calls</th>\n",
       "      <th>Output Sentiment_calls</th>\n",
       "      <th>Coherence_calls</th>\n",
       "      <th>latency</th>\n",
       "      <th>total_tokens</th>\n",
       "      <th>total_cost</th>\n",
       "    </tr>\n",
       "  </thead>\n",
       "  <tbody>\n",
       "    <tr>\n",
       "      <th>0</th>\n",
       "      <td>Training_20Feb_helpful</td>\n",
       "      <td>{\"tru_class_info\": {\"name\": \"TruBasicApp\", \"mo...</td>\n",
       "      <td>TruWrapperApp(trulens_eval.tru_basic_app)</td>\n",
       "      <td>record_hash_c6473d67fdea0288b66d5680cd8cf3bd</td>\n",
       "      <td>\"What types of insurance are commonly used to ...</td>\n",
       "      <td>\"Some types of insurance commonly used to prot...</td>\n",
       "      <td>-</td>\n",
       "      <td>{\"record_id\": \"record_hash_c6473d67fdea0288b66...</td>\n",
       "      <td>{\"n_requests\": 0, \"n_successful_requests\": 0, ...</td>\n",
       "      <td>{\"start_time\": \"2024-02-20T13:29:20.636486\", \"...</td>\n",
       "      <td>...</td>\n",
       "      <td>1.0</td>\n",
       "      <td>1.0</td>\n",
       "      <td>0.9</td>\n",
       "      <td>[{'args': {'text1': 'What types of insurance a...</td>\n",
       "      <td>[{'args': {'text': 'What types of insurance ar...</td>\n",
       "      <td>[{'args': {'text': 'Some types of insurance co...</td>\n",
       "      <td>[{'args': {'text': 'Some types of insurance co...</td>\n",
       "      <td>3</td>\n",
       "      <td>0</td>\n",
       "      <td>0.0</td>\n",
       "    </tr>\n",
       "    <tr>\n",
       "      <th>1</th>\n",
       "      <td>Training_20Feb_helpful</td>\n",
       "      <td>{\"tru_class_info\": {\"name\": \"TruBasicApp\", \"mo...</td>\n",
       "      <td>TruWrapperApp(trulens_eval.tru_basic_app)</td>\n",
       "      <td>record_hash_3798ab452deef06f2d15bf701f6ead68</td>\n",
       "      <td>\"\\u00bfCu\\u00e1l es la diferencia entre un seg...</td>\n",
       "      <td>\"La principal diferencia entre un seguro de vi...</td>\n",
       "      <td>-</td>\n",
       "      <td>{\"record_id\": \"record_hash_3798ab452deef06f2d1...</td>\n",
       "      <td>{\"n_requests\": 0, \"n_successful_requests\": 0, ...</td>\n",
       "      <td>{\"start_time\": \"2024-02-20T13:29:24.315383\", \"...</td>\n",
       "      <td>...</td>\n",
       "      <td>0.0</td>\n",
       "      <td>1.0</td>\n",
       "      <td>0.9</td>\n",
       "      <td>[{'args': {'text1': '¿Cuál es la diferencia en...</td>\n",
       "      <td>[{'args': {'text': '¿Cuál es la diferencia ent...</td>\n",
       "      <td>[{'args': {'text': 'La principal diferencia en...</td>\n",
       "      <td>[{'args': {'text': 'La principal diferencia en...</td>\n",
       "      <td>3</td>\n",
       "      <td>0</td>\n",
       "      <td>0.0</td>\n",
       "    </tr>\n",
       "    <tr>\n",
       "      <th>2</th>\n",
       "      <td>Training_20Feb_helpful</td>\n",
       "      <td>{\"tru_class_info\": {\"name\": \"TruBasicApp\", \"mo...</td>\n",
       "      <td>TruWrapperApp(trulens_eval.tru_basic_app)</td>\n",
       "      <td>record_hash_2b6d5ed95d04a51d512c46ddd52e920a</td>\n",
       "      <td>\"Comment fonctionne l'assurance automobile en ...</td>\n",
       "      <td>\"Lorsqu'un accident de voiture se produit, l'a...</td>\n",
       "      <td>-</td>\n",
       "      <td>{\"record_id\": \"record_hash_2b6d5ed95d04a51d512...</td>\n",
       "      <td>{\"n_requests\": 0, \"n_successful_requests\": 0, ...</td>\n",
       "      <td>{\"start_time\": \"2024-02-20T13:29:28.162480\", \"...</td>\n",
       "      <td>...</td>\n",
       "      <td>0.8</td>\n",
       "      <td>1.0</td>\n",
       "      <td>0.9</td>\n",
       "      <td>[{'args': {'text1': 'Comment fonctionne l'assu...</td>\n",
       "      <td>[{'args': {'text': 'Comment fonctionne l'assur...</td>\n",
       "      <td>[{'args': {'text': 'Lorsqu'un accident de voit...</td>\n",
       "      <td>[{'args': {'text': 'Lorsqu'un accident de voit...</td>\n",
       "      <td>4</td>\n",
       "      <td>0</td>\n",
       "      <td>0.0</td>\n",
       "    </tr>\n",
       "    <tr>\n",
       "      <th>3</th>\n",
       "      <td>Training_20Feb_helpful</td>\n",
       "      <td>{\"tru_class_info\": {\"name\": \"TruBasicApp\", \"mo...</td>\n",
       "      <td>TruWrapperApp(trulens_eval.tru_basic_app)</td>\n",
       "      <td>record_hash_ecede31a0d27ce1fb5083b9cb0a56b0d</td>\n",
       "      <td>\"Welche Arten von Versicherungen sind in Deuts...</td>\n",
       "      <td>\"In Deutschland sind folgende Arten von Versic...</td>\n",
       "      <td>-</td>\n",
       "      <td>{\"record_id\": \"record_hash_ecede31a0d27ce1fb50...</td>\n",
       "      <td>{\"n_requests\": 0, \"n_successful_requests\": 0, ...</td>\n",
       "      <td>{\"start_time\": \"2024-02-20T13:29:33.095069\", \"...</td>\n",
       "      <td>...</td>\n",
       "      <td>0.0</td>\n",
       "      <td>1.0</td>\n",
       "      <td>0.9</td>\n",
       "      <td>[{'args': {'text1': 'Welche Arten von Versiche...</td>\n",
       "      <td>[{'args': {'text': 'Welche Arten von Versicher...</td>\n",
       "      <td>[{'args': {'text': 'In Deutschland sind folgen...</td>\n",
       "      <td>[{'args': {'text': 'In Deutschland sind folgen...</td>\n",
       "      <td>4</td>\n",
       "      <td>0</td>\n",
       "      <td>0.0</td>\n",
       "    </tr>\n",
       "    <tr>\n",
       "      <th>4</th>\n",
       "      <td>Training_20Feb_helpful</td>\n",
       "      <td>{\"tru_class_info\": {\"name\": \"TruBasicApp\", \"mo...</td>\n",
       "      <td>TruWrapperApp(trulens_eval.tru_basic_app)</td>\n",
       "      <td>record_hash_cfb1360b471f487ea14375ad35cc4ce8</td>\n",
       "      <td>\"\\u4fdd\\u9669\\u5982\\u4f55\\u4fdd\\u62a4\\u8d22\\u4...</td>\n",
       "      <td>\"\\u4fdd\\u9669\\u53ef\\u4ee5\\u901a\\u8fc7\\u4ee5\\u4...</td>\n",
       "      <td>-</td>\n",
       "      <td>{\"record_id\": \"record_hash_cfb1360b471f487ea14...</td>\n",
       "      <td>{\"n_requests\": 0, \"n_successful_requests\": 0, ...</td>\n",
       "      <td>{\"start_time\": \"2024-02-20T13:29:37.476825\", \"...</td>\n",
       "      <td>...</td>\n",
       "      <td>1.0</td>\n",
       "      <td>1.0</td>\n",
       "      <td>0.8</td>\n",
       "      <td>[{'args': {'text1': '保险如何保护财产损失？', 'text2': '保...</td>\n",
       "      <td>[{'args': {'text': '保险如何保护财产损失？'}, 'ret': 1.0,...</td>\n",
       "      <td>[{'args': {'text': '保险可以通过以下几种方式来保护财产损失：\n",
       "\n",
       "1. 财...</td>\n",
       "      <td>[{'args': {'text': '保险可以通过以下几种方式来保护财产损失：\n",
       "\n",
       "1. 财...</td>\n",
       "      <td>5</td>\n",
       "      <td>0</td>\n",
       "      <td>0.0</td>\n",
       "    </tr>\n",
       "    <tr>\n",
       "      <th>5</th>\n",
       "      <td>Training_20Feb_helpful</td>\n",
       "      <td>{\"tru_class_info\": {\"name\": \"TruBasicApp\", \"mo...</td>\n",
       "      <td>TruWrapperApp(trulens_eval.tru_basic_app)</td>\n",
       "      <td>record_hash_2346454e60dbf8a098c92c802eae5f8c</td>\n",
       "      <td>\"\\u041a\\u0430\\u043a\\u043e\\u0432\\u044b \\u043e\\u...</td>\n",
       "      <td>\"\\u0412 \\u0420\\u043e\\u0441\\u0441\\u0438\\u0438 \\...</td>\n",
       "      <td>-</td>\n",
       "      <td>{\"record_id\": \"record_hash_2346454e60dbf8a098c...</td>\n",
       "      <td>{\"n_requests\": 0, \"n_successful_requests\": 0, ...</td>\n",
       "      <td>{\"start_time\": \"2024-02-20T13:29:43.414087\", \"...</td>\n",
       "      <td>...</td>\n",
       "      <td>0.8</td>\n",
       "      <td>1.0</td>\n",
       "      <td>0.8</td>\n",
       "      <td>NaN</td>\n",
       "      <td>[{'args': {'text': 'Каковы основные виды страх...</td>\n",
       "      <td>[{'args': {'text': 'В России основные виды стр...</td>\n",
       "      <td>[{'args': {'text': 'В России основные виды стр...</td>\n",
       "      <td>7</td>\n",
       "      <td>0</td>\n",
       "      <td>0.0</td>\n",
       "    </tr>\n",
       "    <tr>\n",
       "      <th>6</th>\n",
       "      <td>Training_20Feb_helpful</td>\n",
       "      <td>{\"tru_class_info\": {\"name\": \"TruBasicApp\", \"mo...</td>\n",
       "      <td>TruWrapperApp(trulens_eval.tru_basic_app)</td>\n",
       "      <td>record_hash_cc2c34183b927e55038e3da233269f72</td>\n",
       "      <td>\"\\u0645\\u0627 \\u0647\\u0648 \\u0627\\u0644\\u062a\\...</td>\n",
       "      <td>\"\\u0627\\u0644\\u062a\\u0623\\u0645\\u064a\\u0646 \\u...</td>\n",
       "      <td>-</td>\n",
       "      <td>{\"record_id\": \"record_hash_cc2c34183b927e55038...</td>\n",
       "      <td>{\"n_requests\": 0, \"n_successful_requests\": 0, ...</td>\n",
       "      <td>{\"start_time\": \"2024-02-20T13:29:50.997379\", \"...</td>\n",
       "      <td>...</td>\n",
       "      <td>0.8</td>\n",
       "      <td>1.0</td>\n",
       "      <td>0.8</td>\n",
       "      <td>NaN</td>\n",
       "      <td>[{'args': {'text': 'ما هو التأمين على الحياة و...</td>\n",
       "      <td>[{'args': {'text': 'التأمين على الحياة هو نوع ...</td>\n",
       "      <td>[{'args': {'text': 'التأمين على الحياة هو نوع ...</td>\n",
       "      <td>6</td>\n",
       "      <td>0</td>\n",
       "      <td>0.0</td>\n",
       "    </tr>\n",
       "    <tr>\n",
       "      <th>7</th>\n",
       "      <td>Training_20Feb_helpful</td>\n",
       "      <td>{\"tru_class_info\": {\"name\": \"TruBasicApp\", \"mo...</td>\n",
       "      <td>TruWrapperApp(trulens_eval.tru_basic_app)</td>\n",
       "      <td>record_hash_1d40c8078c73e40cb054a4aba30b5a97</td>\n",
       "      <td>\"\\u81ea\\u52d5\\u8eca\\u4fdd\\u967a\\u306e\\u7a2e\\u9...</td>\n",
       "      <td>\"\\u81ea\\u52d5\\u8eca\\u4fdd\\u967a\\u306b\\u306f\\u3...</td>\n",
       "      <td>-</td>\n",
       "      <td>{\"record_id\": \"record_hash_1d40c8078c73e40cb05...</td>\n",
       "      <td>{\"n_requests\": 0, \"n_successful_requests\": 0, ...</td>\n",
       "      <td>{\"start_time\": \"2024-02-20T13:29:57.745508\", \"...</td>\n",
       "      <td>...</td>\n",
       "      <td>0.8</td>\n",
       "      <td>1.0</td>\n",
       "      <td>0.9</td>\n",
       "      <td>NaN</td>\n",
       "      <td>[{'args': {'text': '自動車保険の種類とは何ですか？'}, 'ret': ...</td>\n",
       "      <td>[{'args': {'text': '自動車保険にはいくつかの種類があります。以下に一般的...</td>\n",
       "      <td>[{'args': {'text': '自動車保険にはいくつかの種類があります。以下に一般的...</td>\n",
       "      <td>5</td>\n",
       "      <td>0</td>\n",
       "      <td>0.0</td>\n",
       "    </tr>\n",
       "    <tr>\n",
       "      <th>8</th>\n",
       "      <td>Training_20Feb_helpful</td>\n",
       "      <td>{\"tru_class_info\": {\"name\": \"TruBasicApp\", \"mo...</td>\n",
       "      <td>TruWrapperApp(trulens_eval.tru_basic_app)</td>\n",
       "      <td>record_hash_42f525fb09a303a2025e9d2dd1bc576f</td>\n",
       "      <td>\"Como funciona o seguro de sa\\u00fade em Portu...</td>\n",
       "      <td>\"O seguro de sa\\u00fade em Portugal funciona d...</td>\n",
       "      <td>-</td>\n",
       "      <td>{\"record_id\": \"record_hash_42f525fb09a303a2025...</td>\n",
       "      <td>{\"n_requests\": 0, \"n_successful_requests\": 0, ...</td>\n",
       "      <td>{\"start_time\": \"2024-02-20T13:30:02.977669\", \"...</td>\n",
       "      <td>...</td>\n",
       "      <td>0.8</td>\n",
       "      <td>0.8</td>\n",
       "      <td>0.8</td>\n",
       "      <td>[{'args': {'text1': 'Como funciona o seguro de...</td>\n",
       "      <td>[{'args': {'text': 'Como funciona o seguro de ...</td>\n",
       "      <td>[{'args': {'text': 'O seguro de saúde em Portu...</td>\n",
       "      <td>[{'args': {'text': 'O seguro de saúde em Portu...</td>\n",
       "      <td>3</td>\n",
       "      <td>0</td>\n",
       "      <td>0.0</td>\n",
       "    </tr>\n",
       "    <tr>\n",
       "      <th>9</th>\n",
       "      <td>Training_20Feb_helpful</td>\n",
       "      <td>{\"tru_class_info\": {\"name\": \"TruBasicApp\", \"mo...</td>\n",
       "      <td>TruWrapperApp(trulens_eval.tru_basic_app)</td>\n",
       "      <td>record_hash_e8a0ddfb8263df13e1d8a9550984d1b1</td>\n",
       "      <td>\"\\u092c\\u0940\\u092e\\u093e \\u0915\\u094d\\u092f\\u...</td>\n",
       "      <td>\"\\u092c\\u0940\\u092e\\u093e \\u090f\\u0915 \\u0935\\...</td>\n",
       "      <td>-</td>\n",
       "      <td>{\"record_id\": \"record_hash_e8a0ddfb8263df13e1d...</td>\n",
       "      <td>{\"n_requests\": 0, \"n_successful_requests\": 0, ...</td>\n",
       "      <td>{\"start_time\": \"2024-02-20T13:30:06.684626\", \"...</td>\n",
       "      <td>...</td>\n",
       "      <td>0.0</td>\n",
       "      <td>1.0</td>\n",
       "      <td>0.8</td>\n",
       "      <td>[{'args': {'text1': 'बीमा क्या होता है और यह क...</td>\n",
       "      <td>[{'args': {'text': 'बीमा क्या होता है और यह कि...</td>\n",
       "      <td>[{'args': {'text': 'बीमा एक वित्तीय सुरक्षा की...</td>\n",
       "      <td>[{'args': {'text': 'बीमा एक वित्तीय सुरक्षा की...</td>\n",
       "      <td>9</td>\n",
       "      <td>0</td>\n",
       "      <td>0.0</td>\n",
       "    </tr>\n",
       "  </tbody>\n",
       "</table>\n",
       "<p>10 rows × 22 columns</p>\n",
       "</div>"
      ],
      "text/plain": [
       "                   app_id                                           app_json  \\\n",
       "0  Training_20Feb_helpful  {\"tru_class_info\": {\"name\": \"TruBasicApp\", \"mo...   \n",
       "1  Training_20Feb_helpful  {\"tru_class_info\": {\"name\": \"TruBasicApp\", \"mo...   \n",
       "2  Training_20Feb_helpful  {\"tru_class_info\": {\"name\": \"TruBasicApp\", \"mo...   \n",
       "3  Training_20Feb_helpful  {\"tru_class_info\": {\"name\": \"TruBasicApp\", \"mo...   \n",
       "4  Training_20Feb_helpful  {\"tru_class_info\": {\"name\": \"TruBasicApp\", \"mo...   \n",
       "5  Training_20Feb_helpful  {\"tru_class_info\": {\"name\": \"TruBasicApp\", \"mo...   \n",
       "6  Training_20Feb_helpful  {\"tru_class_info\": {\"name\": \"TruBasicApp\", \"mo...   \n",
       "7  Training_20Feb_helpful  {\"tru_class_info\": {\"name\": \"TruBasicApp\", \"mo...   \n",
       "8  Training_20Feb_helpful  {\"tru_class_info\": {\"name\": \"TruBasicApp\", \"mo...   \n",
       "9  Training_20Feb_helpful  {\"tru_class_info\": {\"name\": \"TruBasicApp\", \"mo...   \n",
       "\n",
       "                                        type  \\\n",
       "0  TruWrapperApp(trulens_eval.tru_basic_app)   \n",
       "1  TruWrapperApp(trulens_eval.tru_basic_app)   \n",
       "2  TruWrapperApp(trulens_eval.tru_basic_app)   \n",
       "3  TruWrapperApp(trulens_eval.tru_basic_app)   \n",
       "4  TruWrapperApp(trulens_eval.tru_basic_app)   \n",
       "5  TruWrapperApp(trulens_eval.tru_basic_app)   \n",
       "6  TruWrapperApp(trulens_eval.tru_basic_app)   \n",
       "7  TruWrapperApp(trulens_eval.tru_basic_app)   \n",
       "8  TruWrapperApp(trulens_eval.tru_basic_app)   \n",
       "9  TruWrapperApp(trulens_eval.tru_basic_app)   \n",
       "\n",
       "                                      record_id  \\\n",
       "0  record_hash_c6473d67fdea0288b66d5680cd8cf3bd   \n",
       "1  record_hash_3798ab452deef06f2d15bf701f6ead68   \n",
       "2  record_hash_2b6d5ed95d04a51d512c46ddd52e920a   \n",
       "3  record_hash_ecede31a0d27ce1fb5083b9cb0a56b0d   \n",
       "4  record_hash_cfb1360b471f487ea14375ad35cc4ce8   \n",
       "5  record_hash_2346454e60dbf8a098c92c802eae5f8c   \n",
       "6  record_hash_cc2c34183b927e55038e3da233269f72   \n",
       "7  record_hash_1d40c8078c73e40cb054a4aba30b5a97   \n",
       "8  record_hash_42f525fb09a303a2025e9d2dd1bc576f   \n",
       "9  record_hash_e8a0ddfb8263df13e1d8a9550984d1b1   \n",
       "\n",
       "                                               input  \\\n",
       "0  \"What types of insurance are commonly used to ...   \n",
       "1  \"\\u00bfCu\\u00e1l es la diferencia entre un seg...   \n",
       "2  \"Comment fonctionne l'assurance automobile en ...   \n",
       "3  \"Welche Arten von Versicherungen sind in Deuts...   \n",
       "4  \"\\u4fdd\\u9669\\u5982\\u4f55\\u4fdd\\u62a4\\u8d22\\u4...   \n",
       "5  \"\\u041a\\u0430\\u043a\\u043e\\u0432\\u044b \\u043e\\u...   \n",
       "6  \"\\u0645\\u0627 \\u0647\\u0648 \\u0627\\u0644\\u062a\\...   \n",
       "7  \"\\u81ea\\u52d5\\u8eca\\u4fdd\\u967a\\u306e\\u7a2e\\u9...   \n",
       "8  \"Como funciona o seguro de sa\\u00fade em Portu...   \n",
       "9  \"\\u092c\\u0940\\u092e\\u093e \\u0915\\u094d\\u092f\\u...   \n",
       "\n",
       "                                              output tags  \\\n",
       "0  \"Some types of insurance commonly used to prot...    -   \n",
       "1  \"La principal diferencia entre un seguro de vi...    -   \n",
       "2  \"Lorsqu'un accident de voiture se produit, l'a...    -   \n",
       "3  \"In Deutschland sind folgende Arten von Versic...    -   \n",
       "4  \"\\u4fdd\\u9669\\u53ef\\u4ee5\\u901a\\u8fc7\\u4ee5\\u4...    -   \n",
       "5  \"\\u0412 \\u0420\\u043e\\u0441\\u0441\\u0438\\u0438 \\...    -   \n",
       "6  \"\\u0627\\u0644\\u062a\\u0623\\u0645\\u064a\\u0646 \\u...    -   \n",
       "7  \"\\u81ea\\u52d5\\u8eca\\u4fdd\\u967a\\u306b\\u306f\\u3...    -   \n",
       "8  \"O seguro de sa\\u00fade em Portugal funciona d...    -   \n",
       "9  \"\\u092c\\u0940\\u092e\\u093e \\u090f\\u0915 \\u0935\\...    -   \n",
       "\n",
       "                                         record_json  \\\n",
       "0  {\"record_id\": \"record_hash_c6473d67fdea0288b66...   \n",
       "1  {\"record_id\": \"record_hash_3798ab452deef06f2d1...   \n",
       "2  {\"record_id\": \"record_hash_2b6d5ed95d04a51d512...   \n",
       "3  {\"record_id\": \"record_hash_ecede31a0d27ce1fb50...   \n",
       "4  {\"record_id\": \"record_hash_cfb1360b471f487ea14...   \n",
       "5  {\"record_id\": \"record_hash_2346454e60dbf8a098c...   \n",
       "6  {\"record_id\": \"record_hash_cc2c34183b927e55038...   \n",
       "7  {\"record_id\": \"record_hash_1d40c8078c73e40cb05...   \n",
       "8  {\"record_id\": \"record_hash_42f525fb09a303a2025...   \n",
       "9  {\"record_id\": \"record_hash_e8a0ddfb8263df13e1d...   \n",
       "\n",
       "                                           cost_json  \\\n",
       "0  {\"n_requests\": 0, \"n_successful_requests\": 0, ...   \n",
       "1  {\"n_requests\": 0, \"n_successful_requests\": 0, ...   \n",
       "2  {\"n_requests\": 0, \"n_successful_requests\": 0, ...   \n",
       "3  {\"n_requests\": 0, \"n_successful_requests\": 0, ...   \n",
       "4  {\"n_requests\": 0, \"n_successful_requests\": 0, ...   \n",
       "5  {\"n_requests\": 0, \"n_successful_requests\": 0, ...   \n",
       "6  {\"n_requests\": 0, \"n_successful_requests\": 0, ...   \n",
       "7  {\"n_requests\": 0, \"n_successful_requests\": 0, ...   \n",
       "8  {\"n_requests\": 0, \"n_successful_requests\": 0, ...   \n",
       "9  {\"n_requests\": 0, \"n_successful_requests\": 0, ...   \n",
       "\n",
       "                                           perf_json  ... Input Sentiment  \\\n",
       "0  {\"start_time\": \"2024-02-20T13:29:20.636486\", \"...  ...             1.0   \n",
       "1  {\"start_time\": \"2024-02-20T13:29:24.315383\", \"...  ...             0.0   \n",
       "2  {\"start_time\": \"2024-02-20T13:29:28.162480\", \"...  ...             0.8   \n",
       "3  {\"start_time\": \"2024-02-20T13:29:33.095069\", \"...  ...             0.0   \n",
       "4  {\"start_time\": \"2024-02-20T13:29:37.476825\", \"...  ...             1.0   \n",
       "5  {\"start_time\": \"2024-02-20T13:29:43.414087\", \"...  ...             0.8   \n",
       "6  {\"start_time\": \"2024-02-20T13:29:50.997379\", \"...  ...             0.8   \n",
       "7  {\"start_time\": \"2024-02-20T13:29:57.745508\", \"...  ...             0.8   \n",
       "8  {\"start_time\": \"2024-02-20T13:30:02.977669\", \"...  ...             0.8   \n",
       "9  {\"start_time\": \"2024-02-20T13:30:06.684626\", \"...  ...             0.0   \n",
       "\n",
       "   Output Sentiment  Coherence  \\\n",
       "0               1.0        0.9   \n",
       "1               1.0        0.9   \n",
       "2               1.0        0.9   \n",
       "3               1.0        0.9   \n",
       "4               1.0        0.8   \n",
       "5               1.0        0.8   \n",
       "6               1.0        0.8   \n",
       "7               1.0        0.9   \n",
       "8               0.8        0.8   \n",
       "9               1.0        0.8   \n",
       "\n",
       "                                Language Match_calls  \\\n",
       "0  [{'args': {'text1': 'What types of insurance a...   \n",
       "1  [{'args': {'text1': '¿Cuál es la diferencia en...   \n",
       "2  [{'args': {'text1': 'Comment fonctionne l'assu...   \n",
       "3  [{'args': {'text1': 'Welche Arten von Versiche...   \n",
       "4  [{'args': {'text1': '保险如何保护财产损失？', 'text2': '保...   \n",
       "5                                                NaN   \n",
       "6                                                NaN   \n",
       "7                                                NaN   \n",
       "8  [{'args': {'text1': 'Como funciona o seguro de...   \n",
       "9  [{'args': {'text1': 'बीमा क्या होता है और यह क...   \n",
       "\n",
       "                               Input Sentiment_calls  \\\n",
       "0  [{'args': {'text': 'What types of insurance ar...   \n",
       "1  [{'args': {'text': '¿Cuál es la diferencia ent...   \n",
       "2  [{'args': {'text': 'Comment fonctionne l'assur...   \n",
       "3  [{'args': {'text': 'Welche Arten von Versicher...   \n",
       "4  [{'args': {'text': '保险如何保护财产损失？'}, 'ret': 1.0,...   \n",
       "5  [{'args': {'text': 'Каковы основные виды страх...   \n",
       "6  [{'args': {'text': 'ما هو التأمين على الحياة و...   \n",
       "7  [{'args': {'text': '自動車保険の種類とは何ですか？'}, 'ret': ...   \n",
       "8  [{'args': {'text': 'Como funciona o seguro de ...   \n",
       "9  [{'args': {'text': 'बीमा क्या होता है और यह कि...   \n",
       "\n",
       "                              Output Sentiment_calls  \\\n",
       "0  [{'args': {'text': 'Some types of insurance co...   \n",
       "1  [{'args': {'text': 'La principal diferencia en...   \n",
       "2  [{'args': {'text': 'Lorsqu'un accident de voit...   \n",
       "3  [{'args': {'text': 'In Deutschland sind folgen...   \n",
       "4  [{'args': {'text': '保险可以通过以下几种方式来保护财产损失：\n",
       "\n",
       "1. 财...   \n",
       "5  [{'args': {'text': 'В России основные виды стр...   \n",
       "6  [{'args': {'text': 'التأمين على الحياة هو نوع ...   \n",
       "7  [{'args': {'text': '自動車保険にはいくつかの種類があります。以下に一般的...   \n",
       "8  [{'args': {'text': 'O seguro de saúde em Portu...   \n",
       "9  [{'args': {'text': 'बीमा एक वित्तीय सुरक्षा की...   \n",
       "\n",
       "                                     Coherence_calls latency total_tokens  \\\n",
       "0  [{'args': {'text': 'Some types of insurance co...       3            0   \n",
       "1  [{'args': {'text': 'La principal diferencia en...       3            0   \n",
       "2  [{'args': {'text': 'Lorsqu'un accident de voit...       4            0   \n",
       "3  [{'args': {'text': 'In Deutschland sind folgen...       4            0   \n",
       "4  [{'args': {'text': '保险可以通过以下几种方式来保护财产损失：\n",
       "\n",
       "1. 财...       5            0   \n",
       "5  [{'args': {'text': 'В России основные виды стр...       7            0   \n",
       "6  [{'args': {'text': 'التأمين على الحياة هو نوع ...       6            0   \n",
       "7  [{'args': {'text': '自動車保険にはいくつかの種類があります。以下に一般的...       5            0   \n",
       "8  [{'args': {'text': 'O seguro de saúde em Portu...       3            0   \n",
       "9  [{'args': {'text': 'बीमा एक वित्तीय सुरक्षा की...       9            0   \n",
       "\n",
       "   total_cost  \n",
       "0         0.0  \n",
       "1         0.0  \n",
       "2         0.0  \n",
       "3         0.0  \n",
       "4         0.0  \n",
       "5         0.0  \n",
       "6         0.0  \n",
       "7         0.0  \n",
       "8         0.0  \n",
       "9         0.0  \n",
       "\n",
       "[10 rows x 22 columns]"
      ]
     },
     "execution_count": 20,
     "metadata": {},
     "output_type": "execute_result"
    }
   ],
   "source": [
    "tru.get_records_and_feedback(app_ids=[])[0]"
   ]
  },
  {
   "cell_type": "markdown",
   "metadata": {},
   "source": [
    "### Understanding Context"
   ]
  },
  {
   "cell_type": "code",
   "execution_count": 21,
   "metadata": {},
   "outputs": [
    {
     "data": {
      "text/plain": [
       "[{'args': {'text': 'बीमा एक वित्तीय सुरक्षा की सुविधा है जिसमें एक व्यक्ति या संगठन एक निश्चित धनराशि को एक बीमा कंपनी को भुगतान करके सुरक्षित करवाता है। यह एक प्रकार की वित्तीय सुरक्षा होती है जो आपको आपके नुकसान के मामले में आराम देती है।\\n\\nबीमा कई प्रकार का होता है, जिनमें से कुछ प्रमुख प्रकार निम्नलिखित हैं:\\n\\n1. जीवन बीमा: यह बीमा एक व्यक्ति की मृत्यु के बाद उसके परिवार को आर्थिक सुरक्षा प्रदान करता है। इसमें व्यक्ति एक निश्चित धनराशि का भुगतान करता है और उसके मृत्यु के मामले में उसके परिवार को एक निश्चित राशि मिलती है।\\n\\n2. स्वास्थ्य बीमा: यह बीमा व्यक्ति को चिकित्सा खर्चों के लिए सुरक्षा प्रदान करता है। इसमें व्यक्ति एक निश्चित राशि का भुगतान करता है और उसे चिकित्सा खर्चों के लिए आराम दिया जाता है।\\n\\n3. वाहन बीमा: यह बीमा वाहनों के नुकसान के मामले में सुरक्षा प्रदान करता है। इसमें व्यक्ति एक निश्चित राशि का भुगतान करता है और उसे वाहन के नुकसान के मामले में आराम दिया जाता है।\\n\\n4. गृह बीमा: यह बीमा घर और उसकी संपत्ति के नुकसान के मामले में सुरक्षा प्रदान करता है। इसमें व्यक्ति एक निश्चित राशि का भुगतान करता है और उसे घर और संपत्ति के नुकसान के मामले में आराम दिया जाता है।\\n\\nइसके अलावा और भी कई प्रकार के बीमा होते हैं जैसे की शिक्षा बीमा, व्यापार बीमा, कृषि बीमा, यात्रा बीमा आदि।'},\n",
       "  'ret': 0.8,\n",
       "  'meta': {'reason': 'Criteria: Coherence, structure, and organization\\nSupporting Evidence: The submission is coherent, well-structured, and organized. The information is presented in a clear and logical manner, with each type of insurance being described in a separate paragraph. The introduction provides a brief overview of insurance and its purpose, followed by a description of four main types of insurance. The additional types of insurance are mentioned at the end, providing a comprehensive list. The use of bullet points to list the types of insurance makes it easy to read and understand. Overall, the submission is well-organized and presents the information in a coherent manner.'}}]"
      ]
     },
     "execution_count": 21,
     "metadata": {},
     "output_type": "execute_result"
    }
   ],
   "source": [
    "tru.get_records_and_feedback(app_ids=[])[0]['Coherence_calls'].iloc[9]"
   ]
  },
  {
   "cell_type": "markdown",
   "metadata": {},
   "source": [
    "## Evaluation in RAG"
   ]
  },
  {
   "cell_type": "code",
   "execution_count": 11,
   "metadata": {},
   "outputs": [],
   "source": [
    "# Imports main tools:\n",
    "from trulens_eval import TruChain, Feedback, Tru\n",
    "tru = Tru()\n",
    "tru.reset_database()\n",
    "\n",
    "# Imports from langchain to build app\n",
    "import bs4\n",
    "from langchain import hub\n",
    "from langchain.chat_models import ChatOpenAI\n",
    "from langchain.document_loaders import WebBaseLoader\n",
    "from langchain.embeddings import OpenAIEmbeddings\n",
    "from langchain.schema import StrOutputParser\n",
    "from langchain.text_splitter import RecursiveCharacterTextSplitter\n",
    "from langchain.vectorstores import Chroma\n",
    "from langchain_core.runnables import RunnablePassthrough"
   ]
  },
  {
   "cell_type": "code",
   "execution_count": 12,
   "metadata": {},
   "outputs": [],
   "source": [
    "from langchain_openai import AzureChatOpenAI\n",
    "from langchain.vectorstores import FAISS\n",
    "from langchain_openai import AzureOpenAIEmbeddings\n",
    "embeddings = AzureOpenAIEmbeddings(\n",
    "    azure_deployment='text-embedding-ada-002'\n",
    ")"
   ]
  },
  {
   "cell_type": "markdown",
   "metadata": {},
   "source": [
    "### Vector DB"
   ]
  },
  {
   "cell_type": "code",
   "execution_count": 25,
   "metadata": {},
   "outputs": [],
   "source": [
    "from langchain.text_splitter import CharacterTextSplitter\n",
    "from langchain_community.document_loaders import TextLoader\n",
    "from langchain_community.vectorstores import FAISS\n",
    "from langchain_openai import OpenAIEmbeddings\n",
    "\n",
    "loader = TextLoader(\"input/Harry Potter 3 Prisoner of Azkaban.txt\")\n",
    "documents = loader.load()\n",
    "text_splitter = CharacterTextSplitter(chunk_size=1000, chunk_overlap=0)\n",
    "docs = text_splitter.split_documents(documents)\n",
    "db = FAISS.from_documents(docs, embeddings)\n"
   ]
  },
  {
   "cell_type": "code",
   "execution_count": 46,
   "metadata": {},
   "outputs": [],
   "source": [
    "db.save_local(\"input/vectordb/Harry_Potter_3\")"
   ]
  },
  {
   "cell_type": "markdown",
   "metadata": {},
   "source": [
    "Or Fetch From Local"
   ]
  },
  {
   "cell_type": "code",
   "execution_count": 13,
   "metadata": {},
   "outputs": [],
   "source": [
    "vectorstore = FAISS.load_local('input/vectordb/Harry_Potter_3', embeddings)"
   ]
  },
  {
   "cell_type": "markdown",
   "metadata": {},
   "source": [
    "### Langchain retriver"
   ]
  },
  {
   "cell_type": "code",
   "execution_count": 14,
   "metadata": {},
   "outputs": [],
   "source": [
    "retriever = vectorstore.as_retriever()\n",
    "\n",
    "prompt = hub.pull(\"rlm/rag-prompt\")\n",
    "llm = AzureChatOpenAI(model_name='gpt-35-turbo', temperature=0)\n",
    "# llm = AzureChatOpenAI(model_name='ecv-gpt-4-32k', temperature=0)\n",
    "\n",
    "def format_docs(docs):\n",
    "    return \"\\n\\n\".join(doc.page_content for doc in docs)\n",
    "\n",
    "rag_chain = (\n",
    "    {\"context\": retriever | format_docs, \"question\": RunnablePassthrough()}\n",
    "    | prompt\n",
    "    | llm\n",
    "    | StrOutputParser()\n",
    ")"
   ]
  },
  {
   "cell_type": "code",
   "execution_count": 15,
   "metadata": {},
   "outputs": [
    {
     "data": {
      "text/plain": [
       "'Harry Potter believes that his father, James Potter, conjured the Patronus charm beside the lake.'"
      ]
     },
     "execution_count": 15,
     "metadata": {},
     "output_type": "execute_result"
    }
   ],
   "source": [
    "rag_chain.invoke(\"Does James Potter created the patronous charm beside the lake?\")"
   ]
  },
  {
   "cell_type": "markdown",
   "metadata": {},
   "source": [
    "### Feedback Function"
   ]
  },
  {
   "cell_type": "code",
   "execution_count": 16,
   "metadata": {},
   "outputs": [
    {
     "name": "stdout",
     "output_type": "stream",
     "text": [
      "✅ In Answer Relevance, input prompt will be set to __record__.main_input or `Select.RecordInput` .\n",
      "✅ In Answer Relevance, input response will be set to __record__.main_output or `Select.RecordOutput` .\n",
      "✅ In qs_relevance, input question will be set to __record__.main_input or `Select.RecordInput` .\n",
      "✅ In qs_relevance, input statement will be set to __record__.app.first.steps.context.first.get_relevant_documents.rets .\n",
      "✅ In groundedness_measure_with_cot_reasons, input source will be set to __record__.app.first.steps.context.first.get_relevant_documents.rets.collect() .\n",
      "✅ In groundedness_measure_with_cot_reasons, input statement will be set to __record__.main_output or `Select.RecordOutput` .\n"
     ]
    }
   ],
   "source": [
    "from trulens_eval.feedback.provider import AzureOpenAI\n",
    "from trulens_eval.feedback import Groundedness\n",
    "\n",
    "import numpy as np\n",
    "# Initialize AzureOpenAI-based feedback function collection class:\n",
    "azopenai = AzureOpenAI(\n",
    "    deployment_name=\"gpt-35-turbo\")\n",
    "\n",
    "# Question/answer relevance between overall question and answer.\n",
    "f_qa_relevance = Feedback(azopenai.relevance, name = \"Answer Relevance\").on_input_output()\n",
    "\n",
    "from trulens_eval.app import App\n",
    "context = App.select_context(rag_chain)\n",
    "# Question/statement relevance between question and each context chunk.\n",
    "f_context_relevance = (\n",
    "    Feedback(azopenai.qs_relevance)\n",
    "    .on_input()\n",
    "    .on(context)\n",
    "    .aggregate(np.mean)\n",
    ")\n",
    "\n",
    "# groundedness of output on the context\n",
    "# Read the prompts here trulens_eval/trulens_eval/feedback/prompts.py\n",
    "groundedness = Groundedness(groundedness_provider=azopenai)\n",
    "f_groundedness = (\n",
    "    Feedback(groundedness.groundedness_measure_with_cot_reasons)\n",
    "    .on(context.collect()) # collect context chunks into a list\n",
    "    .on_output()\n",
    "    .aggregate(groundedness.grounded_statements_aggregator)\n",
    ")"
   ]
  },
  {
   "cell_type": "code",
   "execution_count": 17,
   "metadata": {},
   "outputs": [],
   "source": [
    "tru_recorder = TruChain(rag_chain,\n",
    "    app_id='Chain1_ChatApplication',\n",
    "    feedbacks=[f_qa_relevance, f_context_relevance, f_groundedness])"
   ]
  },
  {
   "cell_type": "code",
   "execution_count": 22,
   "metadata": {},
   "outputs": [
    {
     "name": "stderr",
     "output_type": "stream",
     "text": [
      "Callback class OpenAICallback is registered for handling create but there are no endpoints waiting to receive the result.\n",
      "Callback class OpenAICallback is registered for handling create but there are no endpoints waiting to receive the result.\n"
     ]
    },
    {
     "name": "stderr",
     "output_type": "stream",
     "text": [
      "Callback class OpenAICallback is registered for handling create but there are no endpoints waiting to receive the result.\n",
      "Callback class OpenAICallback is registered for handling create but there are no endpoints waiting to receive the result.\n",
      "Callback class OpenAICallback is registered for handling create but there are no endpoints waiting to receive the result.\n"
     ]
    }
   ],
   "source": [
    "with tru_recorder as recording:\n",
    "    llm_response = rag_chain.invoke(\"Does James Potter created the patronous charm beside the lake?\")"
   ]
  },
  {
   "cell_type": "code",
   "execution_count": 23,
   "metadata": {},
   "outputs": [],
   "source": [
    "rec = recording.get()"
   ]
  },
  {
   "cell_type": "markdown",
   "metadata": {},
   "source": [
    "### Evaluation"
   ]
  },
  {
   "cell_type": "code",
   "execution_count": 24,
   "metadata": {},
   "outputs": [
    {
     "name": "stdout",
     "output_type": "stream",
     "text": [
      "Answer Relevance 0.8\n",
      "qs_relevance 0.7\n",
      "groundedness_measure_with_cot_reasons 1.0\n"
     ]
    }
   ],
   "source": [
    "for feedback, feedback_result in rec.wait_for_feedback_results().items():\n",
    "    print(feedback.name, feedback_result.result)"
   ]
  },
  {
   "cell_type": "code",
   "execution_count": 25,
   "metadata": {},
   "outputs": [
    {
     "data": {
      "text/html": [
       "<div>\n",
       "<style scoped>\n",
       "    .dataframe tbody tr th:only-of-type {\n",
       "        vertical-align: middle;\n",
       "    }\n",
       "\n",
       "    .dataframe tbody tr th {\n",
       "        vertical-align: top;\n",
       "    }\n",
       "\n",
       "    .dataframe thead th {\n",
       "        text-align: right;\n",
       "    }\n",
       "</style>\n",
       "<table border=\"1\" class=\"dataframe\">\n",
       "  <thead>\n",
       "    <tr style=\"text-align: right;\">\n",
       "      <th></th>\n",
       "      <th>app_id</th>\n",
       "      <th>app_json</th>\n",
       "      <th>type</th>\n",
       "      <th>record_id</th>\n",
       "      <th>input</th>\n",
       "      <th>output</th>\n",
       "      <th>tags</th>\n",
       "      <th>record_json</th>\n",
       "      <th>cost_json</th>\n",
       "      <th>perf_json</th>\n",
       "      <th>ts</th>\n",
       "      <th>Answer Relevance</th>\n",
       "      <th>qs_relevance</th>\n",
       "      <th>groundedness_measure_with_cot_reasons</th>\n",
       "      <th>Answer Relevance_calls</th>\n",
       "      <th>qs_relevance_calls</th>\n",
       "      <th>groundedness_measure_with_cot_reasons_calls</th>\n",
       "      <th>latency</th>\n",
       "      <th>total_tokens</th>\n",
       "      <th>total_cost</th>\n",
       "    </tr>\n",
       "  </thead>\n",
       "  <tbody>\n",
       "    <tr>\n",
       "      <th>0</th>\n",
       "      <td>Chain1_ChatApplication</td>\n",
       "      <td>{\"tru_class_info\": {\"name\": \"TruChain\", \"modul...</td>\n",
       "      <td>RunnableSequence(langchain_core.runnables.base)</td>\n",
       "      <td>record_hash_df9bb3ba8ebbe4d5fe4e74dadaab4fea</td>\n",
       "      <td>\"who killed dumbledore?\"</td>\n",
       "      <td>\"I don't know.\"</td>\n",
       "      <td>-</td>\n",
       "      <td>{\"record_id\": \"record_hash_df9bb3ba8ebbe4d5fe4...</td>\n",
       "      <td>{\"n_requests\": 0, \"n_successful_requests\": 0, ...</td>\n",
       "      <td>{\"start_time\": \"2024-02-25T13:56:06.066288\", \"...</td>\n",
       "      <td>2024-02-25T13:56:06.682137</td>\n",
       "      <td>1.0</td>\n",
       "      <td>0.2</td>\n",
       "      <td>0.0</td>\n",
       "      <td>[{'args': {'prompt': 'who killed dumbledore?',...</td>\n",
       "      <td>[{'args': {'question': 'who killed dumbledore?...</td>\n",
       "      <td>[{'args': {'source': [[{'page_content': '\"Siri...</td>\n",
       "      <td>0</td>\n",
       "      <td>0</td>\n",
       "      <td>0.0</td>\n",
       "    </tr>\n",
       "    <tr>\n",
       "      <th>1</th>\n",
       "      <td>Chain1_ChatApplication</td>\n",
       "      <td>{\"tru_class_info\": {\"name\": \"TruChain\", \"modul...</td>\n",
       "      <td>RunnableSequence(langchain_core.runnables.base)</td>\n",
       "      <td>record_hash_70496b2e2f3c728fad14347fea784e00</td>\n",
       "      <td>\"Does James Potter created the patronous charm...</td>\n",
       "      <td>\"Harry Potter believes that his father, James ...</td>\n",
       "      <td>-</td>\n",
       "      <td>{\"record_id\": \"record_hash_70496b2e2f3c728fad1...</td>\n",
       "      <td>{\"n_requests\": 0, \"n_successful_requests\": 0, ...</td>\n",
       "      <td>{\"start_time\": \"2024-02-25T13:56:46.516640\", \"...</td>\n",
       "      <td>2024-02-25T13:56:47.310702</td>\n",
       "      <td>0.8</td>\n",
       "      <td>0.7</td>\n",
       "      <td>1.0</td>\n",
       "      <td>[{'args': {'prompt': 'Does James Potter create...</td>\n",
       "      <td>[{'args': {'question': 'Does James Potter crea...</td>\n",
       "      <td>[{'args': {'source': [[{'page_content': 'She t...</td>\n",
       "      <td>0</td>\n",
       "      <td>0</td>\n",
       "      <td>0.0</td>\n",
       "    </tr>\n",
       "  </tbody>\n",
       "</table>\n",
       "</div>"
      ],
      "text/plain": [
       "                   app_id                                           app_json  \\\n",
       "0  Chain1_ChatApplication  {\"tru_class_info\": {\"name\": \"TruChain\", \"modul...   \n",
       "1  Chain1_ChatApplication  {\"tru_class_info\": {\"name\": \"TruChain\", \"modul...   \n",
       "\n",
       "                                              type  \\\n",
       "0  RunnableSequence(langchain_core.runnables.base)   \n",
       "1  RunnableSequence(langchain_core.runnables.base)   \n",
       "\n",
       "                                      record_id  \\\n",
       "0  record_hash_df9bb3ba8ebbe4d5fe4e74dadaab4fea   \n",
       "1  record_hash_70496b2e2f3c728fad14347fea784e00   \n",
       "\n",
       "                                               input  \\\n",
       "0                           \"who killed dumbledore?\"   \n",
       "1  \"Does James Potter created the patronous charm...   \n",
       "\n",
       "                                              output tags  \\\n",
       "0                                    \"I don't know.\"    -   \n",
       "1  \"Harry Potter believes that his father, James ...    -   \n",
       "\n",
       "                                         record_json  \\\n",
       "0  {\"record_id\": \"record_hash_df9bb3ba8ebbe4d5fe4...   \n",
       "1  {\"record_id\": \"record_hash_70496b2e2f3c728fad1...   \n",
       "\n",
       "                                           cost_json  \\\n",
       "0  {\"n_requests\": 0, \"n_successful_requests\": 0, ...   \n",
       "1  {\"n_requests\": 0, \"n_successful_requests\": 0, ...   \n",
       "\n",
       "                                           perf_json  \\\n",
       "0  {\"start_time\": \"2024-02-25T13:56:06.066288\", \"...   \n",
       "1  {\"start_time\": \"2024-02-25T13:56:46.516640\", \"...   \n",
       "\n",
       "                           ts  Answer Relevance  qs_relevance  \\\n",
       "0  2024-02-25T13:56:06.682137               1.0           0.2   \n",
       "1  2024-02-25T13:56:47.310702               0.8           0.7   \n",
       "\n",
       "   groundedness_measure_with_cot_reasons  \\\n",
       "0                                    0.0   \n",
       "1                                    1.0   \n",
       "\n",
       "                              Answer Relevance_calls  \\\n",
       "0  [{'args': {'prompt': 'who killed dumbledore?',...   \n",
       "1  [{'args': {'prompt': 'Does James Potter create...   \n",
       "\n",
       "                                  qs_relevance_calls  \\\n",
       "0  [{'args': {'question': 'who killed dumbledore?...   \n",
       "1  [{'args': {'question': 'Does James Potter crea...   \n",
       "\n",
       "         groundedness_measure_with_cot_reasons_calls  latency  total_tokens  \\\n",
       "0  [{'args': {'source': [[{'page_content': '\"Siri...        0             0   \n",
       "1  [{'args': {'source': [[{'page_content': 'She t...        0             0   \n",
       "\n",
       "   total_cost  \n",
       "0         0.0  \n",
       "1         0.0  "
      ]
     },
     "execution_count": 25,
     "metadata": {},
     "output_type": "execute_result"
    }
   ],
   "source": [
    "records, feedback = tru.get_records_and_feedback(app_ids=[\"Chain1_ChatApplication\"])\n",
    "records.head()"
   ]
  }
 ],
 "metadata": {
  "kernelspec": {
   "display_name": "jupyter_openai",
   "language": "python",
   "name": "jupyter_openai"
  },
  "language_info": {
   "codemirror_mode": {
    "name": "ipython",
    "version": 3
   },
   "file_extension": ".py",
   "mimetype": "text/x-python",
   "name": "python",
   "nbconvert_exporter": "python",
   "pygments_lexer": "ipython3",
   "version": "3.11.4"
  }
 },
 "nbformat": 4,
 "nbformat_minor": 2
}
