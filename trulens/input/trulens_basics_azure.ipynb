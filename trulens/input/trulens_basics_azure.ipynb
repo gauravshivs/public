{
 "cells": [
  {
   "cell_type": "markdown",
   "metadata": {},
   "source": [
    "### Guide for Creating Jupyter Notebook Kernal\n",
    "1. Creating a Virtual Environment\n",
    "First, you need to create a virtual environment. You can do this using venv (standard library in Python 3.3 and later) or virtualenv (if you are using an older version of Python or prefer it). Here, we'll use venv.\n",
    "\n",
    "Open your terminal or command prompt and run the following commands:\n",
    "```python -m venv env```\n",
    "\n",
    "2. Activating the Virtual Environment\n",
    "Before installing packages or running Python commands in your virtual environment, you need to activate it:\n",
    "\n",
    "Windows ```.\\env\\Scripts\\activate```\n",
    "\n",
    "Mac ```source env/bin/activate```\n",
    "\n",
    "3. Creating a Jupyter Kernel for the Virtual Environment\n",
    "\n",
    "Install ipykernel if not already installed\n",
    "```pip install ipykernel```\n",
    "\n",
    "Create a Jupyter kernel for the virtual environment\n",
    "```python -m ipykernel install --user --name=myenv --display-name=\"trulens kernal\"```"
   ]
  },
  {
   "cell_type": "markdown",
   "metadata": {},
   "source": [
    "Install Libraries"
   ]
  },
  {
   "cell_type": "code",
   "execution_count": null,
   "metadata": {},
   "outputs": [],
   "source": [
    "#! pip install trulens_eval==0.22.2 chromadb==0.4.18 openai==1.3.7 ipython==8.21.0 ipywidgets==8.1.2 langchain-openai == 0.0.6 faiss-cpu==1.7.4 langchainhub==0.1.14"
   ]
  },
  {
   "cell_type": "markdown",
   "metadata": {},
   "source": [
    "Add API keys\n",
    "For this quickstart you will need an OpenAI Key."
   ]
  },
  {
   "cell_type": "code",
   "execution_count": 2,
   "metadata": {},
   "outputs": [],
   "source": [
    "import os\n",
    "os.environ[\"AZURE_OPENAI_API_KEY\"] = \"<azure-open-ai-key>\"\n",
    "os.environ[\"AZURE_OPENAI_ENDPOINT\"] = \"<azure-open-ai-endpoint>\"\n",
    "os.environ[\"OPENAI_API_VERSION\"] = \"2023-03-15-preview\"\n",
    "os.environ[\"OPENAI_API_TYPE\"] = \"azure\""
   ]
  },
  {
   "cell_type": "markdown",
   "metadata": {},
   "source": [
    "## TruLens Evaluations"
   ]
  },
  {
   "cell_type": "markdown",
   "metadata": {},
   "source": [
    "Import from TruLens"
   ]
  },
  {
   "cell_type": "code",
   "execution_count": 10,
   "metadata": {},
   "outputs": [
    {
     "name": "stdout",
     "output_type": "stream",
     "text": [
      "🦑 Tru initialized with db url sqlite:///default.sqlite .\n",
      "🛑 Secret keys may be written to the database. See the `database_redact_keys` option of `Tru` to prevent this.\n"
     ]
    }
   ],
   "source": [
    "# Create openai client\n",
    "from langchain_openai import AzureChatOpenAI\n",
    "\n",
    "# Imports main tools:\n",
    "from trulens_eval import Feedback, OpenAI as fOpenAI, Tru\n",
    "tru = Tru()\n",
    "tru.reset_database()"
   ]
  },
  {
   "cell_type": "markdown",
   "metadata": {},
   "source": [
    "Create a simple chat completion function <br> A question answer bot "
   ]
  },
  {
   "cell_type": "code",
   "execution_count": 11,
   "metadata": {},
   "outputs": [],
   "source": [
    "def llm_open_ai(prompt):\n",
    "    llm = AzureChatOpenAI(model_name='gpt-35-turbo',\n",
    "                            temperature=0)\n",
    "    return llm.predict(prompt)"
   ]
  },
  {
   "cell_type": "markdown",
   "metadata": {},
   "source": [
    "Define prompt and call function"
   ]
  },
  {
   "cell_type": "code",
   "execution_count": 12,
   "metadata": {},
   "outputs": [
    {
     "name": "stderr",
     "output_type": "stream",
     "text": [
      "/Users/gaurav.shivhare/Library/CloudStorage/OneDrive-Accenture/Accenture/Training/FY24/GenAI/Trulens/code/env/lib/python3.11/site-packages/langchain_core/_api/deprecation.py:117: LangChainDeprecationWarning: The function `predict` was deprecated in LangChain 0.1.7 and will be removed in 0.2.0. Use invoke instead.\n",
      "  warn_deprecated(\n"
     ]
    },
    {
     "data": {
      "text/plain": [
       "'Photosynthesis is the process by which green plants and some other organisms use sunlight to synthesize foods with the help of chlorophyll. During photosynthesis, carbon dioxide and water are converted into glucose (a type of sugar) and oxygen. This process is essential for the survival of plants and other organisms that depend on them for food and oxygen.'"
      ]
     },
     "execution_count": 12,
     "metadata": {},
     "output_type": "execute_result"
    }
   ],
   "source": [
    "prompt_input= \"What is photo synthesis?\"\n",
    "prompt_output = llm_open_ai(prompt_input)\n",
    "prompt_output"
   ]
  },
  {
   "cell_type": "markdown",
   "metadata": {},
   "source": [
    "## Feedback Functions"
   ]
  },
  {
   "cell_type": "markdown",
   "metadata": {},
   "source": [
    "**Initialize Feedback Functions** <br>\n",
    "Feed Back Function Guide\n",
    "https://www.trulens.org/trulens_eval/feedback_function_guide/"
   ]
  },
  {
   "cell_type": "code",
   "execution_count": 5,
   "metadata": {},
   "outputs": [
    {
     "name": "stdout",
     "output_type": "stream",
     "text": [
      "✅ In Answer Relevance, input prompt will be set to __record__.main_input or `Select.RecordInput` .\n",
      "✅ In Answer Relevance, input response will be set to __record__.main_output or `Select.RecordOutput` .\n"
     ]
    }
   ],
   "source": [
    "from trulens_eval.feedback.provider import AzureOpenAI\n",
    "import numpy as np\n",
    "# Initialize AzureOpenAI-based feedback function collection class:\n",
    "azopenai = AzureOpenAI(\n",
    "    deployment_name=\"gpt-35-turbo\")\n",
    "\n",
    "# Question/answer relevance between overall question and answer.\n",
    "f_qa_relevance = Feedback(azopenai.relevance, name = \"Answer Relevance\").on_input_output()"
   ]
  },
  {
   "cell_type": "markdown",
   "metadata": {},
   "source": [
    "Want to know more feedback functions? <br>\n",
    "visit there [git](https://github.com/truera/trulens/tree/main/trulens_eval) <br> trulens_eval/trulens_eval/feedback/v2/feedback.py"
   ]
  },
  {
   "cell_type": "markdown",
   "metadata": {},
   "source": [
    "Instrument the callable for logging with TruLens"
   ]
  },
  {
   "cell_type": "code",
   "execution_count": 13,
   "metadata": {},
   "outputs": [],
   "source": [
    "from trulens_eval import TruBasicApp\n",
    "tru_llm_standalone_recorder = TruBasicApp(llm_open_ai, app_id=\"Training_20Feb\", feedbacks=[f_qa_relevance])"
   ]
  },
  {
   "cell_type": "code",
   "execution_count": 8,
   "metadata": {},
   "outputs": [
    {
     "name": "stderr",
     "output_type": "stream",
     "text": [
      "Callback class OpenAICallback is registered for handling create but there are no endpoints waiting to receive the result.\n"
     ]
    },
    {
     "name": "stderr",
     "output_type": "stream",
     "text": [
      "Callback class OpenAICallback is registered for handling create but there are no endpoints waiting to receive the result.\n"
     ]
    }
   ],
   "source": [
    "with tru_llm_standalone_recorder as recording:\n",
    "    tru_llm_standalone_recorder.app(prompt_input)\n"
   ]
  },
  {
   "cell_type": "markdown",
   "metadata": {},
   "source": [
    "Scores"
   ]
  },
  {
   "cell_type": "code",
   "execution_count": 9,
   "metadata": {},
   "outputs": [
    {
     "data": {
      "text/html": [
       "<div>\n",
       "<style scoped>\n",
       "    .dataframe tbody tr th:only-of-type {\n",
       "        vertical-align: middle;\n",
       "    }\n",
       "\n",
       "    .dataframe tbody tr th {\n",
       "        vertical-align: top;\n",
       "    }\n",
       "\n",
       "    .dataframe thead th {\n",
       "        text-align: right;\n",
       "    }\n",
       "</style>\n",
       "<table border=\"1\" class=\"dataframe\">\n",
       "  <thead>\n",
       "    <tr style=\"text-align: right;\">\n",
       "      <th></th>\n",
       "      <th>input</th>\n",
       "      <th>output</th>\n",
       "      <th>Answer Relevance</th>\n",
       "    </tr>\n",
       "  </thead>\n",
       "  <tbody>\n",
       "    <tr>\n",
       "      <th>0</th>\n",
       "      <td>\"What is photo synthesis?\"</td>\n",
       "      <td>\"Photosynthesis is the process by which green ...</td>\n",
       "      <td>1.0</td>\n",
       "    </tr>\n",
       "  </tbody>\n",
       "</table>\n",
       "</div>"
      ],
      "text/plain": [
       "                        input  \\\n",
       "0  \"What is photo synthesis?\"   \n",
       "\n",
       "                                              output  Answer Relevance  \n",
       "0  \"Photosynthesis is the process by which green ...               1.0  "
      ]
     },
     "execution_count": 9,
     "metadata": {},
     "output_type": "execute_result"
    }
   ],
   "source": [
    "tru.get_records_and_feedback(app_ids=[])[0][['input','output','Answer Relevance']]"
   ]
  },
  {
   "cell_type": "markdown",
   "metadata": {},
   "source": [
    "Complete Results"
   ]
  },
  {
   "cell_type": "code",
   "execution_count": 10,
   "metadata": {},
   "outputs": [
    {
     "data": {
      "text/html": [
       "<div>\n",
       "<style scoped>\n",
       "    .dataframe tbody tr th:only-of-type {\n",
       "        vertical-align: middle;\n",
       "    }\n",
       "\n",
       "    .dataframe tbody tr th {\n",
       "        vertical-align: top;\n",
       "    }\n",
       "\n",
       "    .dataframe thead th {\n",
       "        text-align: right;\n",
       "    }\n",
       "</style>\n",
       "<table border=\"1\" class=\"dataframe\">\n",
       "  <thead>\n",
       "    <tr style=\"text-align: right;\">\n",
       "      <th></th>\n",
       "      <th>app_id</th>\n",
       "      <th>app_json</th>\n",
       "      <th>type</th>\n",
       "      <th>record_id</th>\n",
       "      <th>input</th>\n",
       "      <th>output</th>\n",
       "      <th>tags</th>\n",
       "      <th>record_json</th>\n",
       "      <th>cost_json</th>\n",
       "      <th>perf_json</th>\n",
       "      <th>ts</th>\n",
       "      <th>Answer Relevance</th>\n",
       "      <th>Answer Relevance_calls</th>\n",
       "      <th>latency</th>\n",
       "      <th>total_tokens</th>\n",
       "      <th>total_cost</th>\n",
       "    </tr>\n",
       "  </thead>\n",
       "  <tbody>\n",
       "    <tr>\n",
       "      <th>0</th>\n",
       "      <td>Training_20Feb</td>\n",
       "      <td>{\"tru_class_info\": {\"name\": \"TruBasicApp\", \"mo...</td>\n",
       "      <td>TruWrapperApp(trulens_eval.tru_basic_app)</td>\n",
       "      <td>record_hash_410fda47479c9f7a459f89d69ed594cd</td>\n",
       "      <td>\"What is photo synthesis?\"</td>\n",
       "      <td>\"Photosynthesis is the process by which green ...</td>\n",
       "      <td>-</td>\n",
       "      <td>{\"record_id\": \"record_hash_410fda47479c9f7a459...</td>\n",
       "      <td>{\"n_requests\": 0, \"n_successful_requests\": 0, ...</td>\n",
       "      <td>{\"start_time\": \"2024-02-16T21:13:03.189370\", \"...</td>\n",
       "      <td>2024-02-16T21:13:04.846728</td>\n",
       "      <td>1.0</td>\n",
       "      <td>[{'args': {'prompt': 'What is photo synthesis?...</td>\n",
       "      <td>1</td>\n",
       "      <td>0</td>\n",
       "      <td>0.0</td>\n",
       "    </tr>\n",
       "  </tbody>\n",
       "</table>\n",
       "</div>"
      ],
      "text/plain": [
       "           app_id                                           app_json  \\\n",
       "0  Training_20Feb  {\"tru_class_info\": {\"name\": \"TruBasicApp\", \"mo...   \n",
       "\n",
       "                                        type  \\\n",
       "0  TruWrapperApp(trulens_eval.tru_basic_app)   \n",
       "\n",
       "                                      record_id                       input  \\\n",
       "0  record_hash_410fda47479c9f7a459f89d69ed594cd  \"What is photo synthesis?\"   \n",
       "\n",
       "                                              output tags  \\\n",
       "0  \"Photosynthesis is the process by which green ...    -   \n",
       "\n",
       "                                         record_json  \\\n",
       "0  {\"record_id\": \"record_hash_410fda47479c9f7a459...   \n",
       "\n",
       "                                           cost_json  \\\n",
       "0  {\"n_requests\": 0, \"n_successful_requests\": 0, ...   \n",
       "\n",
       "                                           perf_json  \\\n",
       "0  {\"start_time\": \"2024-02-16T21:13:03.189370\", \"...   \n",
       "\n",
       "                           ts  Answer Relevance  \\\n",
       "0  2024-02-16T21:13:04.846728               1.0   \n",
       "\n",
       "                              Answer Relevance_calls  latency  total_tokens  \\\n",
       "0  [{'args': {'prompt': 'What is photo synthesis?...        1             0   \n",
       "\n",
       "   total_cost  \n",
       "0         0.0  "
      ]
     },
     "execution_count": 10,
     "metadata": {},
     "output_type": "execute_result"
    }
   ],
   "source": [
    "tru.get_records_and_feedback(app_ids=[])[0]"
   ]
  },
  {
   "cell_type": "markdown",
   "metadata": {},
   "source": [
    "A dashboard?\n"
   ]
  },
  {
   "cell_type": "code",
   "execution_count": 11,
   "metadata": {},
   "outputs": [
    {
     "name": "stdout",
     "output_type": "stream",
     "text": [
      "Starting dashboard ...\n",
      "Config file already exists. Skipping writing process.\n",
      "Credentials file already exists. Skipping writing process.\n"
     ]
    },
    {
     "data": {
      "application/vnd.jupyter.widget-view+json": {
       "model_id": "214752b779554381816c34f508c020a2",
       "version_major": 2,
       "version_minor": 0
      },
      "text/plain": [
       "Accordion(children=(VBox(children=(VBox(children=(Label(value='STDOUT'), Output())), VBox(children=(Label(valu…"
      ]
     },
     "metadata": {},
     "output_type": "display_data"
    },
    {
     "name": "stdout",
     "output_type": "stream",
     "text": [
      "Dashboard started at http://192.168.0.170:8501 .\n"
     ]
    },
    {
     "data": {
      "text/plain": [
       "<Popen: returncode: None args: ['streamlit', 'run', '--server.headless=True'...>"
      ]
     },
     "execution_count": 11,
     "metadata": {},
     "output_type": "execute_result"
    }
   ],
   "source": [
    "tru.run_dashboard() # open a local streamlit app to explore\n",
    "\n",
    "# tru.stop_dashboard() # stop if needed"
   ]
  },
  {
   "cell_type": "markdown",
   "metadata": {},
   "source": [
    "### Don't want to use recorder ?"
   ]
  },
  {
   "cell_type": "code",
   "execution_count": 12,
   "metadata": {},
   "outputs": [
    {
     "name": "stdout",
     "output_type": "stream",
     "text": [
      "Good Answer 1.0\n",
      "Bad Answer 0.0\n"
     ]
    }
   ],
   "source": [
    "prompt_input = \"What is the process of photosynthesis?\"\n",
    "Relevant_Answer = \"Photosynthesis is a process used by plants, algae, and certain bacteria to convert light energy into chemical energy stored in glucose or other sugars. This process involves the absorption of carbon dioxide (CO2), water (H2O), and light energy, primarily from the sun. Through a series of reactions known as the light-dependent and light-independent (Calvin cycle) reactions, these inputs are transformed into glucose and oxygen (O2). The overall chemical equation for photosynthesis can be summarized as 6CO2 + 6H2O + light energy → C6H12O6 + 6O2.\"\n",
    "Irrelevant_Answer = \"Photosynthesis is a method used by animals to digest food. It involves the stomach and intestines breaking down food into nutrients that the body can use for energy, growth, and repair. This process is crucial for the survival of animals and requires a complex digestive system.\"\n",
    "print('Good Answer',azopenai.relevance(prompt_input, Relevant_Answer))\n",
    "print('Bad Answer',azopenai.relevance(prompt_input, Irrelevant_Answer))"
   ]
  },
  {
   "cell_type": "markdown",
   "metadata": {},
   "source": [
    "## Other Evaluation Metrics\n",
    "https://www.trulens.org/trulens_eval/api/providers/"
   ]
  },
  {
   "cell_type": "code",
   "execution_count": 14,
   "metadata": {},
   "outputs": [
    {
     "name": "stdout",
     "output_type": "stream",
     "text": [
      "✅ In Coherence, input text will be set to __record__.main_output or `Select.RecordOutput` .\n",
      "✅ In Input Sentiment, input text will be set to __record__.main_input or `Select.RecordInput` .\n",
      "✅ In Output Sentiment, input text will be set to __record__.main_output or `Select.RecordOutput` .\n",
      "✅ In Language Match, input text1 will be set to __record__.main_input or `Select.RecordInput` .\n",
      "✅ In Language Match, input text2 will be set to __record__.main_output or `Select.RecordOutput` .\n"
     ]
    }
   ],
   "source": [
    "from trulens_eval import Feedback\n",
    "from trulens_eval.feedback.provider import OpenAI\n",
    "from trulens_eval.feedback.provider import Huggingface\n",
    "# Initialize provider classes\n",
    "provider = azopenai = AzureOpenAI(\n",
    "    deployment_name=\"gpt-35-turbo\")\n",
    "hugs_provider = Huggingface()\n",
    "\n",
    "# LLM-based feedback functions\n",
    "f_coherence = Feedback(\n",
    "    provider.coherence_with_cot_reasons, name=\"Coherence\"\n",
    "    ).on_output()\n",
    "\n",
    "f_input_sentiment = Feedback(\n",
    "    provider.sentiment_with_cot_reasons, name=\"Input Sentiment\"\n",
    "    ).on_input()\n",
    "\n",
    "f_output_sentiment = Feedback(\n",
    "    provider.sentiment_with_cot_reasons, name=\"Output Sentiment\"\n",
    "    ).on_output()\n",
    "        \n",
    "f_langmatch = Feedback(\n",
    "    hugs_provider.language_match, name=\"Language Match\"\n",
    "    ).on_input_output()\n",
    "\n",
    "helpful_feedbacks = [\n",
    "    f_coherence,\n",
    "    f_input_sentiment,\n",
    "    f_output_sentiment,\n",
    "    f_langmatch,\n",
    "    ]"
   ]
  },
  {
   "cell_type": "code",
   "execution_count": 15,
   "metadata": {},
   "outputs": [],
   "source": [
    "helpful_evals = [\n",
    "    \"What types of insurance are commonly used to protect against property damage?\",\n",
    "    \"¿Cuál es la diferencia entre un seguro de vida y un seguro de salud?\",\n",
    "    \"Comment fonctionne l'assurance automobile en cas d'accident?\",\n",
    "    \"Welche Arten von Versicherungen sind in Deutschland gesetzlich vorgeschrieben?\",\n",
    "    \"保险如何保护财产损失？\",\n",
    "    \"Каковы основные виды страхования в России?\",\n",
    "    \"ما هو التأمين على الحياة وما هي فوائده؟\",\n",
    "    \"自動車保険の種類とは何ですか？\",\n",
    "    \"Como funciona o seguro de saúde em Portugal?\",\n",
    "    \"बीमा क्या होता है और यह कितने प्रकार का होता है?\"\n",
    "]"
   ]
  },
  {
   "cell_type": "code",
   "execution_count": 16,
   "metadata": {},
   "outputs": [],
   "source": [
    "tru_llm_standalone_recorder = TruBasicApp(llm_open_ai, app_id=\"Training_20Feb_helpful\", feedbacks=helpful_feedbacks)"
   ]
  },
  {
   "cell_type": "code",
   "execution_count": null,
   "metadata": {},
   "outputs": [],
   "source": [
    "tru.reset_database()\n",
    "with tru_llm_standalone_recorder as recording:\n",
    "    for prompt_input in helpful_evals:\n",
    "        tru_llm_standalone_recorder.app(prompt_input)"
   ]
  },
  {
   "cell_type": "markdown",
   "metadata": {},
   "source": [
    "### Output"
   ]
  },
  {
   "cell_type": "code",
   "execution_count": 19,
   "metadata": {},
   "outputs": [
    {
     "data": {
      "text/html": [
       "<div>\n",
       "<style scoped>\n",
       "    .dataframe tbody tr th:only-of-type {\n",
       "        vertical-align: middle;\n",
       "    }\n",
       "\n",
       "    .dataframe tbody tr th {\n",
       "        vertical-align: top;\n",
       "    }\n",
       "\n",
       "    .dataframe thead th {\n",
       "        text-align: right;\n",
       "    }\n",
       "</style>\n",
       "<table border=\"1\" class=\"dataframe\">\n",
       "  <thead>\n",
       "    <tr style=\"text-align: right;\">\n",
       "      <th></th>\n",
       "      <th>input</th>\n",
       "      <th>output</th>\n",
       "      <th>Language Match</th>\n",
       "      <th>Input Sentiment</th>\n",
       "      <th>Output Sentiment</th>\n",
       "      <th>Coherence</th>\n",
       "    </tr>\n",
       "  </thead>\n",
       "  <tbody>\n",
       "    <tr>\n",
       "      <th>0</th>\n",
       "      <td>\"What types of insurance are commonly used to ...</td>\n",
       "      <td>\"The types of insurance commonly used to prote...</td>\n",
       "      <td>0.955207</td>\n",
       "      <td>-1.0</td>\n",
       "      <td>1.0</td>\n",
       "      <td>0.9</td>\n",
       "    </tr>\n",
       "    <tr>\n",
       "      <th>1</th>\n",
       "      <td>\"\\u00bfCu\\u00e1l es la diferencia entre un seg...</td>\n",
       "      <td>\"Un seguro de vida es un contrato en el que un...</td>\n",
       "      <td>0.989370</td>\n",
       "      <td>-1.0</td>\n",
       "      <td>1.0</td>\n",
       "      <td>0.9</td>\n",
       "    </tr>\n",
       "    <tr>\n",
       "      <th>2</th>\n",
       "      <td>\"Comment fonctionne l'assurance automobile en ...</td>\n",
       "      <td>\"Lorsqu'un accident de voiture se produit, l'a...</td>\n",
       "      <td>0.998261</td>\n",
       "      <td>-1.0</td>\n",
       "      <td>1.0</td>\n",
       "      <td>0.9</td>\n",
       "    </tr>\n",
       "    <tr>\n",
       "      <th>3</th>\n",
       "      <td>\"Welche Arten von Versicherungen sind in Deuts...</td>\n",
       "      <td>\"In Deutschland sind folgende Versicherungen g...</td>\n",
       "      <td>0.998850</td>\n",
       "      <td>1.0</td>\n",
       "      <td>1.0</td>\n",
       "      <td>1.0</td>\n",
       "    </tr>\n",
       "    <tr>\n",
       "      <th>4</th>\n",
       "      <td>\"\\u4fdd\\u9669\\u5982\\u4f55\\u4fdd\\u62a4\\u8d22\\u4...</td>\n",
       "      <td>\"\\u4fdd\\u9669\\u53ef\\u4ee5\\u901a\\u8fc7\\u4ee5\\u4...</td>\n",
       "      <td>0.966869</td>\n",
       "      <td>0.8</td>\n",
       "      <td>1.0</td>\n",
       "      <td>0.9</td>\n",
       "    </tr>\n",
       "    <tr>\n",
       "      <th>5</th>\n",
       "      <td>\"\\u041a\\u0430\\u043a\\u043e\\u0432\\u044b \\u043e\\u...</td>\n",
       "      <td>\"\\u041e\\u0441\\u043d\\u043e\\u0432\\u043d\\u044b\\u0...</td>\n",
       "      <td>0.999771</td>\n",
       "      <td>-1.0</td>\n",
       "      <td>1.0</td>\n",
       "      <td>0.9</td>\n",
       "    </tr>\n",
       "    <tr>\n",
       "      <th>6</th>\n",
       "      <td>\"\\u0645\\u0627 \\u0647\\u0648 \\u0627\\u0644\\u062a\\...</td>\n",
       "      <td>\"\\u0627\\u0644\\u062a\\u0623\\u0645\\u064a\\u0646 \\u...</td>\n",
       "      <td>0.995908</td>\n",
       "      <td>0.8</td>\n",
       "      <td>1.0</td>\n",
       "      <td>0.9</td>\n",
       "    </tr>\n",
       "    <tr>\n",
       "      <th>7</th>\n",
       "      <td>\"\\u81ea\\u52d5\\u8eca\\u4fdd\\u967a\\u306e\\u7a2e\\u9...</td>\n",
       "      <td>\"\\u81ea\\u52d5\\u8eca\\u4fdd\\u967a\\u306b\\u306f\\u3...</td>\n",
       "      <td>0.997468</td>\n",
       "      <td>0.0</td>\n",
       "      <td>1.0</td>\n",
       "      <td>1.0</td>\n",
       "    </tr>\n",
       "    <tr>\n",
       "      <th>8</th>\n",
       "      <td>\"Como funciona o seguro de sa\\u00fade em Portu...</td>\n",
       "      <td>\"O seguro de sa\\u00fade em Portugal funciona d...</td>\n",
       "      <td>0.999138</td>\n",
       "      <td>-1.0</td>\n",
       "      <td>1.0</td>\n",
       "      <td>0.9</td>\n",
       "    </tr>\n",
       "    <tr>\n",
       "      <th>9</th>\n",
       "      <td>\"\\u092c\\u0940\\u092e\\u093e \\u0915\\u094d\\u092f\\u...</td>\n",
       "      <td>\"\\u092c\\u0940\\u092e\\u093e \\u090f\\u0915 \\u0935\\...</td>\n",
       "      <td>NaN</td>\n",
       "      <td>1.0</td>\n",
       "      <td>1.0</td>\n",
       "      <td>0.9</td>\n",
       "    </tr>\n",
       "  </tbody>\n",
       "</table>\n",
       "</div>"
      ],
      "text/plain": [
       "                                               input  \\\n",
       "0  \"What types of insurance are commonly used to ...   \n",
       "1  \"\\u00bfCu\\u00e1l es la diferencia entre un seg...   \n",
       "2  \"Comment fonctionne l'assurance automobile en ...   \n",
       "3  \"Welche Arten von Versicherungen sind in Deuts...   \n",
       "4  \"\\u4fdd\\u9669\\u5982\\u4f55\\u4fdd\\u62a4\\u8d22\\u4...   \n",
       "5  \"\\u041a\\u0430\\u043a\\u043e\\u0432\\u044b \\u043e\\u...   \n",
       "6  \"\\u0645\\u0627 \\u0647\\u0648 \\u0627\\u0644\\u062a\\...   \n",
       "7  \"\\u81ea\\u52d5\\u8eca\\u4fdd\\u967a\\u306e\\u7a2e\\u9...   \n",
       "8  \"Como funciona o seguro de sa\\u00fade em Portu...   \n",
       "9  \"\\u092c\\u0940\\u092e\\u093e \\u0915\\u094d\\u092f\\u...   \n",
       "\n",
       "                                              output  Language Match  \\\n",
       "0  \"The types of insurance commonly used to prote...        0.955207   \n",
       "1  \"Un seguro de vida es un contrato en el que un...        0.989370   \n",
       "2  \"Lorsqu'un accident de voiture se produit, l'a...        0.998261   \n",
       "3  \"In Deutschland sind folgende Versicherungen g...        0.998850   \n",
       "4  \"\\u4fdd\\u9669\\u53ef\\u4ee5\\u901a\\u8fc7\\u4ee5\\u4...        0.966869   \n",
       "5  \"\\u041e\\u0441\\u043d\\u043e\\u0432\\u043d\\u044b\\u0...        0.999771   \n",
       "6  \"\\u0627\\u0644\\u062a\\u0623\\u0645\\u064a\\u0646 \\u...        0.995908   \n",
       "7  \"\\u81ea\\u52d5\\u8eca\\u4fdd\\u967a\\u306b\\u306f\\u3...        0.997468   \n",
       "8  \"O seguro de sa\\u00fade em Portugal funciona d...        0.999138   \n",
       "9  \"\\u092c\\u0940\\u092e\\u093e \\u090f\\u0915 \\u0935\\...             NaN   \n",
       "\n",
       "   Input Sentiment  Output Sentiment  Coherence  \n",
       "0             -1.0               1.0        0.9  \n",
       "1             -1.0               1.0        0.9  \n",
       "2             -1.0               1.0        0.9  \n",
       "3              1.0               1.0        1.0  \n",
       "4              0.8               1.0        0.9  \n",
       "5             -1.0               1.0        0.9  \n",
       "6              0.8               1.0        0.9  \n",
       "7              0.0               1.0        1.0  \n",
       "8             -1.0               1.0        0.9  \n",
       "9              1.0               1.0        0.9  "
      ]
     },
     "execution_count": 19,
     "metadata": {},
     "output_type": "execute_result"
    }
   ],
   "source": [
    "tru.get_records_and_feedback(app_ids=[])[0][['input','output','Language Match','Input Sentiment','Output Sentiment','Coherence']] "
   ]
  },
  {
   "cell_type": "code",
   "execution_count": 23,
   "metadata": {},
   "outputs": [
    {
     "data": {
      "text/html": [
       "<div>\n",
       "<style scoped>\n",
       "    .dataframe tbody tr th:only-of-type {\n",
       "        vertical-align: middle;\n",
       "    }\n",
       "\n",
       "    .dataframe tbody tr th {\n",
       "        vertical-align: top;\n",
       "    }\n",
       "\n",
       "    .dataframe thead th {\n",
       "        text-align: right;\n",
       "    }\n",
       "</style>\n",
       "<table border=\"1\" class=\"dataframe\">\n",
       "  <thead>\n",
       "    <tr style=\"text-align: right;\">\n",
       "      <th></th>\n",
       "      <th>app_id</th>\n",
       "      <th>app_json</th>\n",
       "      <th>type</th>\n",
       "      <th>record_id</th>\n",
       "      <th>input</th>\n",
       "      <th>output</th>\n",
       "      <th>tags</th>\n",
       "      <th>record_json</th>\n",
       "      <th>cost_json</th>\n",
       "      <th>perf_json</th>\n",
       "      <th>...</th>\n",
       "      <th>Input Sentiment</th>\n",
       "      <th>Coherence</th>\n",
       "      <th>Output Sentiment</th>\n",
       "      <th>Language Match_calls</th>\n",
       "      <th>Input Sentiment_calls</th>\n",
       "      <th>Coherence_calls</th>\n",
       "      <th>Output Sentiment_calls</th>\n",
       "      <th>latency</th>\n",
       "      <th>total_tokens</th>\n",
       "      <th>total_cost</th>\n",
       "    </tr>\n",
       "  </thead>\n",
       "  <tbody>\n",
       "    <tr>\n",
       "      <th>0</th>\n",
       "      <td>Training_20Feb_helpful</td>\n",
       "      <td>{\"tru_class_info\": {\"name\": \"TruBasicApp\", \"mo...</td>\n",
       "      <td>TruWrapperApp(trulens_eval.tru_basic_app)</td>\n",
       "      <td>record_hash_b04d78e91734da6fa942a037564797df</td>\n",
       "      <td>\"What types of insurance are commonly used to ...</td>\n",
       "      <td>\"The types of insurance commonly used to prote...</td>\n",
       "      <td>-</td>\n",
       "      <td>{\"record_id\": \"record_hash_b04d78e91734da6fa94...</td>\n",
       "      <td>{\"n_requests\": 0, \"n_successful_requests\": 0, ...</td>\n",
       "      <td>{\"start_time\": \"2024-02-17T13:35:16.217664\", \"...</td>\n",
       "      <td>...</td>\n",
       "      <td>-1.0</td>\n",
       "      <td>0.9</td>\n",
       "      <td>1.0</td>\n",
       "      <td>[{'args': {'text1': 'What types of insurance a...</td>\n",
       "      <td>[{'args': {'text': 'What types of insurance ar...</td>\n",
       "      <td>[{'args': {'text': 'The types of insurance com...</td>\n",
       "      <td>[{'args': {'text': 'The types of insurance com...</td>\n",
       "      <td>2</td>\n",
       "      <td>0</td>\n",
       "      <td>0.0</td>\n",
       "    </tr>\n",
       "    <tr>\n",
       "      <th>1</th>\n",
       "      <td>Training_20Feb_helpful</td>\n",
       "      <td>{\"tru_class_info\": {\"name\": \"TruBasicApp\", \"mo...</td>\n",
       "      <td>TruWrapperApp(trulens_eval.tru_basic_app)</td>\n",
       "      <td>record_hash_6dde5cab37e54be79cf7c79e0f1af9ef</td>\n",
       "      <td>\"\\u00bfCu\\u00e1l es la diferencia entre un seg...</td>\n",
       "      <td>\"Un seguro de vida es un contrato en el que un...</td>\n",
       "      <td>-</td>\n",
       "      <td>{\"record_id\": \"record_hash_6dde5cab37e54be79cf...</td>\n",
       "      <td>{\"n_requests\": 0, \"n_successful_requests\": 0, ...</td>\n",
       "      <td>{\"start_time\": \"2024-02-17T13:35:19.317429\", \"...</td>\n",
       "      <td>...</td>\n",
       "      <td>-1.0</td>\n",
       "      <td>0.9</td>\n",
       "      <td>1.0</td>\n",
       "      <td>[{'args': {'text1': '¿Cuál es la diferencia en...</td>\n",
       "      <td>[{'args': {'text': '¿Cuál es la diferencia ent...</td>\n",
       "      <td>[{'args': {'text': 'Un seguro de vida es un co...</td>\n",
       "      <td>[{'args': {'text': 'Un seguro de vida es un co...</td>\n",
       "      <td>2</td>\n",
       "      <td>0</td>\n",
       "      <td>0.0</td>\n",
       "    </tr>\n",
       "    <tr>\n",
       "      <th>2</th>\n",
       "      <td>Training_20Feb_helpful</td>\n",
       "      <td>{\"tru_class_info\": {\"name\": \"TruBasicApp\", \"mo...</td>\n",
       "      <td>TruWrapperApp(trulens_eval.tru_basic_app)</td>\n",
       "      <td>record_hash_9a57c996a3e6713d936ed3dcc61e4e5a</td>\n",
       "      <td>\"Comment fonctionne l'assurance automobile en ...</td>\n",
       "      <td>\"Lorsqu'un accident de voiture se produit, l'a...</td>\n",
       "      <td>-</td>\n",
       "      <td>{\"record_id\": \"record_hash_9a57c996a3e6713d936...</td>\n",
       "      <td>{\"n_requests\": 0, \"n_successful_requests\": 0, ...</td>\n",
       "      <td>{\"start_time\": \"2024-02-17T13:35:22.205594\", \"...</td>\n",
       "      <td>...</td>\n",
       "      <td>-1.0</td>\n",
       "      <td>0.9</td>\n",
       "      <td>1.0</td>\n",
       "      <td>[{'args': {'text1': 'Comment fonctionne l'assu...</td>\n",
       "      <td>[{'args': {'text': 'Comment fonctionne l'assur...</td>\n",
       "      <td>[{'args': {'text': 'Lorsqu'un accident de voit...</td>\n",
       "      <td>[{'args': {'text': 'Lorsqu'un accident de voit...</td>\n",
       "      <td>7</td>\n",
       "      <td>0</td>\n",
       "      <td>0.0</td>\n",
       "    </tr>\n",
       "    <tr>\n",
       "      <th>3</th>\n",
       "      <td>Training_20Feb_helpful</td>\n",
       "      <td>{\"tru_class_info\": {\"name\": \"TruBasicApp\", \"mo...</td>\n",
       "      <td>TruWrapperApp(trulens_eval.tru_basic_app)</td>\n",
       "      <td>record_hash_5927ac93cdf7b4293798f27c359b4af9</td>\n",
       "      <td>\"Welche Arten von Versicherungen sind in Deuts...</td>\n",
       "      <td>\"In Deutschland sind folgende Versicherungen g...</td>\n",
       "      <td>-</td>\n",
       "      <td>{\"record_id\": \"record_hash_5927ac93cdf7b429379...</td>\n",
       "      <td>{\"n_requests\": 0, \"n_successful_requests\": 0, ...</td>\n",
       "      <td>{\"start_time\": \"2024-02-17T13:35:29.628750\", \"...</td>\n",
       "      <td>...</td>\n",
       "      <td>1.0</td>\n",
       "      <td>1.0</td>\n",
       "      <td>1.0</td>\n",
       "      <td>[{'args': {'text1': 'Welche Arten von Versiche...</td>\n",
       "      <td>[{'args': {'text': 'Welche Arten von Versicher...</td>\n",
       "      <td>[{'args': {'text': 'In Deutschland sind folgen...</td>\n",
       "      <td>[{'args': {'text': 'In Deutschland sind folgen...</td>\n",
       "      <td>3</td>\n",
       "      <td>0</td>\n",
       "      <td>0.0</td>\n",
       "    </tr>\n",
       "    <tr>\n",
       "      <th>4</th>\n",
       "      <td>Training_20Feb_helpful</td>\n",
       "      <td>{\"tru_class_info\": {\"name\": \"TruBasicApp\", \"mo...</td>\n",
       "      <td>TruWrapperApp(trulens_eval.tru_basic_app)</td>\n",
       "      <td>record_hash_bb7c499a3f76589c5a773338039c5852</td>\n",
       "      <td>\"\\u4fdd\\u9669\\u5982\\u4f55\\u4fdd\\u62a4\\u8d22\\u4...</td>\n",
       "      <td>\"\\u4fdd\\u9669\\u53ef\\u4ee5\\u901a\\u8fc7\\u4ee5\\u4...</td>\n",
       "      <td>-</td>\n",
       "      <td>{\"record_id\": \"record_hash_bb7c499a3f76589c5a7...</td>\n",
       "      <td>{\"n_requests\": 0, \"n_successful_requests\": 0, ...</td>\n",
       "      <td>{\"start_time\": \"2024-02-17T13:35:33.209973\", \"...</td>\n",
       "      <td>...</td>\n",
       "      <td>0.8</td>\n",
       "      <td>0.9</td>\n",
       "      <td>1.0</td>\n",
       "      <td>[{'args': {'text1': '保险如何保护财产损失？', 'text2': '保...</td>\n",
       "      <td>[{'args': {'text': '保险如何保护财产损失？'}, 'ret': 0.8,...</td>\n",
       "      <td>[{'args': {'text': '保险可以通过以下方式保护财产损失：\n",
       "\n",
       "1. 财产保险...</td>\n",
       "      <td>[{'args': {'text': '保险可以通过以下方式保护财产损失：\n",
       "\n",
       "1. 财产保险...</td>\n",
       "      <td>3</td>\n",
       "      <td>0</td>\n",
       "      <td>0.0</td>\n",
       "    </tr>\n",
       "    <tr>\n",
       "      <th>5</th>\n",
       "      <td>Training_20Feb_helpful</td>\n",
       "      <td>{\"tru_class_info\": {\"name\": \"TruBasicApp\", \"mo...</td>\n",
       "      <td>TruWrapperApp(trulens_eval.tru_basic_app)</td>\n",
       "      <td>record_hash_af44973fd261f8e66d81ae88ad120864</td>\n",
       "      <td>\"\\u041a\\u0430\\u043a\\u043e\\u0432\\u044b \\u043e\\u...</td>\n",
       "      <td>\"\\u041e\\u0441\\u043d\\u043e\\u0432\\u043d\\u044b\\u0...</td>\n",
       "      <td>-</td>\n",
       "      <td>{\"record_id\": \"record_hash_af44973fd261f8e66d8...</td>\n",
       "      <td>{\"n_requests\": 0, \"n_successful_requests\": 0, ...</td>\n",
       "      <td>{\"start_time\": \"2024-02-17T13:35:37.238335\", \"...</td>\n",
       "      <td>...</td>\n",
       "      <td>-1.0</td>\n",
       "      <td>0.9</td>\n",
       "      <td>1.0</td>\n",
       "      <td>[{'args': {'text1': 'Каковы основные виды стра...</td>\n",
       "      <td>[{'args': {'text': 'Каковы основные виды страх...</td>\n",
       "      <td>[{'args': {'text': 'Основные виды страхования ...</td>\n",
       "      <td>[{'args': {'text': 'Основные виды страхования ...</td>\n",
       "      <td>4</td>\n",
       "      <td>0</td>\n",
       "      <td>0.0</td>\n",
       "    </tr>\n",
       "    <tr>\n",
       "      <th>6</th>\n",
       "      <td>Training_20Feb_helpful</td>\n",
       "      <td>{\"tru_class_info\": {\"name\": \"TruBasicApp\", \"mo...</td>\n",
       "      <td>TruWrapperApp(trulens_eval.tru_basic_app)</td>\n",
       "      <td>record_hash_55c6a2e0c0a1b5efa530d3ee86b5bb83</td>\n",
       "      <td>\"\\u0645\\u0627 \\u0647\\u0648 \\u0627\\u0644\\u062a\\...</td>\n",
       "      <td>\"\\u0627\\u0644\\u062a\\u0623\\u0645\\u064a\\u0646 \\u...</td>\n",
       "      <td>-</td>\n",
       "      <td>{\"record_id\": \"record_hash_55c6a2e0c0a1b5efa53...</td>\n",
       "      <td>{\"n_requests\": 0, \"n_successful_requests\": 0, ...</td>\n",
       "      <td>{\"start_time\": \"2024-02-17T13:35:41.426989\", \"...</td>\n",
       "      <td>...</td>\n",
       "      <td>0.8</td>\n",
       "      <td>0.9</td>\n",
       "      <td>1.0</td>\n",
       "      <td>[{'args': {'text1': 'ما هو التأمين على الحياة ...</td>\n",
       "      <td>[{'args': {'text': 'ما هو التأمين على الحياة و...</td>\n",
       "      <td>[{'args': {'text': 'التأمين على الحياة هو نوع ...</td>\n",
       "      <td>[{'args': {'text': 'التأمين على الحياة هو نوع ...</td>\n",
       "      <td>5</td>\n",
       "      <td>0</td>\n",
       "      <td>0.0</td>\n",
       "    </tr>\n",
       "    <tr>\n",
       "      <th>7</th>\n",
       "      <td>Training_20Feb_helpful</td>\n",
       "      <td>{\"tru_class_info\": {\"name\": \"TruBasicApp\", \"mo...</td>\n",
       "      <td>TruWrapperApp(trulens_eval.tru_basic_app)</td>\n",
       "      <td>record_hash_fcf27ae3c8fb5905a7b2415d9df60745</td>\n",
       "      <td>\"\\u81ea\\u52d5\\u8eca\\u4fdd\\u967a\\u306e\\u7a2e\\u9...</td>\n",
       "      <td>\"\\u81ea\\u52d5\\u8eca\\u4fdd\\u967a\\u306b\\u306f\\u3...</td>\n",
       "      <td>-</td>\n",
       "      <td>{\"record_id\": \"record_hash_fcf27ae3c8fb5905a7b...</td>\n",
       "      <td>{\"n_requests\": 0, \"n_successful_requests\": 0, ...</td>\n",
       "      <td>{\"start_time\": \"2024-02-17T13:35:47.011046\", \"...</td>\n",
       "      <td>...</td>\n",
       "      <td>0.0</td>\n",
       "      <td>1.0</td>\n",
       "      <td>1.0</td>\n",
       "      <td>[{'args': {'text1': '自動車保険の種類とは何ですか？', 'text2'...</td>\n",
       "      <td>[{'args': {'text': '自動車保険の種類とは何ですか？'}, 'ret': ...</td>\n",
       "      <td>[{'args': {'text': '自動車保険には、以下のような種類があります。\n",
       "\n",
       "1....</td>\n",
       "      <td>[{'args': {'text': '自動車保険には、以下のような種類があります。\n",
       "\n",
       "1....</td>\n",
       "      <td>4</td>\n",
       "      <td>0</td>\n",
       "      <td>0.0</td>\n",
       "    </tr>\n",
       "    <tr>\n",
       "      <th>8</th>\n",
       "      <td>Training_20Feb_helpful</td>\n",
       "      <td>{\"tru_class_info\": {\"name\": \"TruBasicApp\", \"mo...</td>\n",
       "      <td>TruWrapperApp(trulens_eval.tru_basic_app)</td>\n",
       "      <td>record_hash_3b9a0d4bffcae06a05d05161fc7a0c65</td>\n",
       "      <td>\"Como funciona o seguro de sa\\u00fade em Portu...</td>\n",
       "      <td>\"O seguro de sa\\u00fade em Portugal funciona d...</td>\n",
       "      <td>-</td>\n",
       "      <td>{\"record_id\": \"record_hash_3b9a0d4bffcae06a05d...</td>\n",
       "      <td>{\"n_requests\": 0, \"n_successful_requests\": 0, ...</td>\n",
       "      <td>{\"start_time\": \"2024-02-17T13:35:51.691969\", \"...</td>\n",
       "      <td>...</td>\n",
       "      <td>-1.0</td>\n",
       "      <td>0.9</td>\n",
       "      <td>1.0</td>\n",
       "      <td>[{'args': {'text1': 'Como funciona o seguro de...</td>\n",
       "      <td>[{'args': {'text': 'Como funciona o seguro de ...</td>\n",
       "      <td>[{'args': {'text': 'O seguro de saúde em Portu...</td>\n",
       "      <td>[{'args': {'text': 'O seguro de saúde em Portu...</td>\n",
       "      <td>5</td>\n",
       "      <td>0</td>\n",
       "      <td>0.0</td>\n",
       "    </tr>\n",
       "    <tr>\n",
       "      <th>9</th>\n",
       "      <td>Training_20Feb_helpful</td>\n",
       "      <td>{\"tru_class_info\": {\"name\": \"TruBasicApp\", \"mo...</td>\n",
       "      <td>TruWrapperApp(trulens_eval.tru_basic_app)</td>\n",
       "      <td>record_hash_061ff3288845c0dd1e7925c0d2739443</td>\n",
       "      <td>\"\\u092c\\u0940\\u092e\\u093e \\u0915\\u094d\\u092f\\u...</td>\n",
       "      <td>\"\\u092c\\u0940\\u092e\\u093e \\u090f\\u0915 \\u0935\\...</td>\n",
       "      <td>-</td>\n",
       "      <td>{\"record_id\": \"record_hash_061ff3288845c0dd1e7...</td>\n",
       "      <td>{\"n_requests\": 0, \"n_successful_requests\": 0, ...</td>\n",
       "      <td>{\"start_time\": \"2024-02-17T13:35:57.529020\", \"...</td>\n",
       "      <td>...</td>\n",
       "      <td>1.0</td>\n",
       "      <td>0.9</td>\n",
       "      <td>1.0</td>\n",
       "      <td>[]</td>\n",
       "      <td>[{'args': {'text': 'बीमा क्या होता है और यह कि...</td>\n",
       "      <td>[{'args': {'text': 'बीमा एक वित्तीय सुरक्षा का...</td>\n",
       "      <td>[{'args': {'text': 'बीमा एक वित्तीय सुरक्षा का...</td>\n",
       "      <td>6</td>\n",
       "      <td>0</td>\n",
       "      <td>0.0</td>\n",
       "    </tr>\n",
       "  </tbody>\n",
       "</table>\n",
       "<p>10 rows × 22 columns</p>\n",
       "</div>"
      ],
      "text/plain": [
       "                   app_id                                           app_json  \\\n",
       "0  Training_20Feb_helpful  {\"tru_class_info\": {\"name\": \"TruBasicApp\", \"mo...   \n",
       "1  Training_20Feb_helpful  {\"tru_class_info\": {\"name\": \"TruBasicApp\", \"mo...   \n",
       "2  Training_20Feb_helpful  {\"tru_class_info\": {\"name\": \"TruBasicApp\", \"mo...   \n",
       "3  Training_20Feb_helpful  {\"tru_class_info\": {\"name\": \"TruBasicApp\", \"mo...   \n",
       "4  Training_20Feb_helpful  {\"tru_class_info\": {\"name\": \"TruBasicApp\", \"mo...   \n",
       "5  Training_20Feb_helpful  {\"tru_class_info\": {\"name\": \"TruBasicApp\", \"mo...   \n",
       "6  Training_20Feb_helpful  {\"tru_class_info\": {\"name\": \"TruBasicApp\", \"mo...   \n",
       "7  Training_20Feb_helpful  {\"tru_class_info\": {\"name\": \"TruBasicApp\", \"mo...   \n",
       "8  Training_20Feb_helpful  {\"tru_class_info\": {\"name\": \"TruBasicApp\", \"mo...   \n",
       "9  Training_20Feb_helpful  {\"tru_class_info\": {\"name\": \"TruBasicApp\", \"mo...   \n",
       "\n",
       "                                        type  \\\n",
       "0  TruWrapperApp(trulens_eval.tru_basic_app)   \n",
       "1  TruWrapperApp(trulens_eval.tru_basic_app)   \n",
       "2  TruWrapperApp(trulens_eval.tru_basic_app)   \n",
       "3  TruWrapperApp(trulens_eval.tru_basic_app)   \n",
       "4  TruWrapperApp(trulens_eval.tru_basic_app)   \n",
       "5  TruWrapperApp(trulens_eval.tru_basic_app)   \n",
       "6  TruWrapperApp(trulens_eval.tru_basic_app)   \n",
       "7  TruWrapperApp(trulens_eval.tru_basic_app)   \n",
       "8  TruWrapperApp(trulens_eval.tru_basic_app)   \n",
       "9  TruWrapperApp(trulens_eval.tru_basic_app)   \n",
       "\n",
       "                                      record_id  \\\n",
       "0  record_hash_b04d78e91734da6fa942a037564797df   \n",
       "1  record_hash_6dde5cab37e54be79cf7c79e0f1af9ef   \n",
       "2  record_hash_9a57c996a3e6713d936ed3dcc61e4e5a   \n",
       "3  record_hash_5927ac93cdf7b4293798f27c359b4af9   \n",
       "4  record_hash_bb7c499a3f76589c5a773338039c5852   \n",
       "5  record_hash_af44973fd261f8e66d81ae88ad120864   \n",
       "6  record_hash_55c6a2e0c0a1b5efa530d3ee86b5bb83   \n",
       "7  record_hash_fcf27ae3c8fb5905a7b2415d9df60745   \n",
       "8  record_hash_3b9a0d4bffcae06a05d05161fc7a0c65   \n",
       "9  record_hash_061ff3288845c0dd1e7925c0d2739443   \n",
       "\n",
       "                                               input  \\\n",
       "0  \"What types of insurance are commonly used to ...   \n",
       "1  \"\\u00bfCu\\u00e1l es la diferencia entre un seg...   \n",
       "2  \"Comment fonctionne l'assurance automobile en ...   \n",
       "3  \"Welche Arten von Versicherungen sind in Deuts...   \n",
       "4  \"\\u4fdd\\u9669\\u5982\\u4f55\\u4fdd\\u62a4\\u8d22\\u4...   \n",
       "5  \"\\u041a\\u0430\\u043a\\u043e\\u0432\\u044b \\u043e\\u...   \n",
       "6  \"\\u0645\\u0627 \\u0647\\u0648 \\u0627\\u0644\\u062a\\...   \n",
       "7  \"\\u81ea\\u52d5\\u8eca\\u4fdd\\u967a\\u306e\\u7a2e\\u9...   \n",
       "8  \"Como funciona o seguro de sa\\u00fade em Portu...   \n",
       "9  \"\\u092c\\u0940\\u092e\\u093e \\u0915\\u094d\\u092f\\u...   \n",
       "\n",
       "                                              output tags  \\\n",
       "0  \"The types of insurance commonly used to prote...    -   \n",
       "1  \"Un seguro de vida es un contrato en el que un...    -   \n",
       "2  \"Lorsqu'un accident de voiture se produit, l'a...    -   \n",
       "3  \"In Deutschland sind folgende Versicherungen g...    -   \n",
       "4  \"\\u4fdd\\u9669\\u53ef\\u4ee5\\u901a\\u8fc7\\u4ee5\\u4...    -   \n",
       "5  \"\\u041e\\u0441\\u043d\\u043e\\u0432\\u043d\\u044b\\u0...    -   \n",
       "6  \"\\u0627\\u0644\\u062a\\u0623\\u0645\\u064a\\u0646 \\u...    -   \n",
       "7  \"\\u81ea\\u52d5\\u8eca\\u4fdd\\u967a\\u306b\\u306f\\u3...    -   \n",
       "8  \"O seguro de sa\\u00fade em Portugal funciona d...    -   \n",
       "9  \"\\u092c\\u0940\\u092e\\u093e \\u090f\\u0915 \\u0935\\...    -   \n",
       "\n",
       "                                         record_json  \\\n",
       "0  {\"record_id\": \"record_hash_b04d78e91734da6fa94...   \n",
       "1  {\"record_id\": \"record_hash_6dde5cab37e54be79cf...   \n",
       "2  {\"record_id\": \"record_hash_9a57c996a3e6713d936...   \n",
       "3  {\"record_id\": \"record_hash_5927ac93cdf7b429379...   \n",
       "4  {\"record_id\": \"record_hash_bb7c499a3f76589c5a7...   \n",
       "5  {\"record_id\": \"record_hash_af44973fd261f8e66d8...   \n",
       "6  {\"record_id\": \"record_hash_55c6a2e0c0a1b5efa53...   \n",
       "7  {\"record_id\": \"record_hash_fcf27ae3c8fb5905a7b...   \n",
       "8  {\"record_id\": \"record_hash_3b9a0d4bffcae06a05d...   \n",
       "9  {\"record_id\": \"record_hash_061ff3288845c0dd1e7...   \n",
       "\n",
       "                                           cost_json  \\\n",
       "0  {\"n_requests\": 0, \"n_successful_requests\": 0, ...   \n",
       "1  {\"n_requests\": 0, \"n_successful_requests\": 0, ...   \n",
       "2  {\"n_requests\": 0, \"n_successful_requests\": 0, ...   \n",
       "3  {\"n_requests\": 0, \"n_successful_requests\": 0, ...   \n",
       "4  {\"n_requests\": 0, \"n_successful_requests\": 0, ...   \n",
       "5  {\"n_requests\": 0, \"n_successful_requests\": 0, ...   \n",
       "6  {\"n_requests\": 0, \"n_successful_requests\": 0, ...   \n",
       "7  {\"n_requests\": 0, \"n_successful_requests\": 0, ...   \n",
       "8  {\"n_requests\": 0, \"n_successful_requests\": 0, ...   \n",
       "9  {\"n_requests\": 0, \"n_successful_requests\": 0, ...   \n",
       "\n",
       "                                           perf_json  ... Input Sentiment  \\\n",
       "0  {\"start_time\": \"2024-02-17T13:35:16.217664\", \"...  ...            -1.0   \n",
       "1  {\"start_time\": \"2024-02-17T13:35:19.317429\", \"...  ...            -1.0   \n",
       "2  {\"start_time\": \"2024-02-17T13:35:22.205594\", \"...  ...            -1.0   \n",
       "3  {\"start_time\": \"2024-02-17T13:35:29.628750\", \"...  ...             1.0   \n",
       "4  {\"start_time\": \"2024-02-17T13:35:33.209973\", \"...  ...             0.8   \n",
       "5  {\"start_time\": \"2024-02-17T13:35:37.238335\", \"...  ...            -1.0   \n",
       "6  {\"start_time\": \"2024-02-17T13:35:41.426989\", \"...  ...             0.8   \n",
       "7  {\"start_time\": \"2024-02-17T13:35:47.011046\", \"...  ...             0.0   \n",
       "8  {\"start_time\": \"2024-02-17T13:35:51.691969\", \"...  ...            -1.0   \n",
       "9  {\"start_time\": \"2024-02-17T13:35:57.529020\", \"...  ...             1.0   \n",
       "\n",
       "   Coherence  Output Sentiment  \\\n",
       "0        0.9               1.0   \n",
       "1        0.9               1.0   \n",
       "2        0.9               1.0   \n",
       "3        1.0               1.0   \n",
       "4        0.9               1.0   \n",
       "5        0.9               1.0   \n",
       "6        0.9               1.0   \n",
       "7        1.0               1.0   \n",
       "8        0.9               1.0   \n",
       "9        0.9               1.0   \n",
       "\n",
       "                                Language Match_calls  \\\n",
       "0  [{'args': {'text1': 'What types of insurance a...   \n",
       "1  [{'args': {'text1': '¿Cuál es la diferencia en...   \n",
       "2  [{'args': {'text1': 'Comment fonctionne l'assu...   \n",
       "3  [{'args': {'text1': 'Welche Arten von Versiche...   \n",
       "4  [{'args': {'text1': '保险如何保护财产损失？', 'text2': '保...   \n",
       "5  [{'args': {'text1': 'Каковы основные виды стра...   \n",
       "6  [{'args': {'text1': 'ما هو التأمين على الحياة ...   \n",
       "7  [{'args': {'text1': '自動車保険の種類とは何ですか？', 'text2'...   \n",
       "8  [{'args': {'text1': 'Como funciona o seguro de...   \n",
       "9                                                 []   \n",
       "\n",
       "                               Input Sentiment_calls  \\\n",
       "0  [{'args': {'text': 'What types of insurance ar...   \n",
       "1  [{'args': {'text': '¿Cuál es la diferencia ent...   \n",
       "2  [{'args': {'text': 'Comment fonctionne l'assur...   \n",
       "3  [{'args': {'text': 'Welche Arten von Versicher...   \n",
       "4  [{'args': {'text': '保险如何保护财产损失？'}, 'ret': 0.8,...   \n",
       "5  [{'args': {'text': 'Каковы основные виды страх...   \n",
       "6  [{'args': {'text': 'ما هو التأمين على الحياة و...   \n",
       "7  [{'args': {'text': '自動車保険の種類とは何ですか？'}, 'ret': ...   \n",
       "8  [{'args': {'text': 'Como funciona o seguro de ...   \n",
       "9  [{'args': {'text': 'बीमा क्या होता है और यह कि...   \n",
       "\n",
       "                                     Coherence_calls  \\\n",
       "0  [{'args': {'text': 'The types of insurance com...   \n",
       "1  [{'args': {'text': 'Un seguro de vida es un co...   \n",
       "2  [{'args': {'text': 'Lorsqu'un accident de voit...   \n",
       "3  [{'args': {'text': 'In Deutschland sind folgen...   \n",
       "4  [{'args': {'text': '保险可以通过以下方式保护财产损失：\n",
       "\n",
       "1. 财产保险...   \n",
       "5  [{'args': {'text': 'Основные виды страхования ...   \n",
       "6  [{'args': {'text': 'التأمين على الحياة هو نوع ...   \n",
       "7  [{'args': {'text': '自動車保険には、以下のような種類があります。\n",
       "\n",
       "1....   \n",
       "8  [{'args': {'text': 'O seguro de saúde em Portu...   \n",
       "9  [{'args': {'text': 'बीमा एक वित्तीय सुरक्षा का...   \n",
       "\n",
       "                              Output Sentiment_calls latency total_tokens  \\\n",
       "0  [{'args': {'text': 'The types of insurance com...       2            0   \n",
       "1  [{'args': {'text': 'Un seguro de vida es un co...       2            0   \n",
       "2  [{'args': {'text': 'Lorsqu'un accident de voit...       7            0   \n",
       "3  [{'args': {'text': 'In Deutschland sind folgen...       3            0   \n",
       "4  [{'args': {'text': '保险可以通过以下方式保护财产损失：\n",
       "\n",
       "1. 财产保险...       3            0   \n",
       "5  [{'args': {'text': 'Основные виды страхования ...       4            0   \n",
       "6  [{'args': {'text': 'التأمين على الحياة هو نوع ...       5            0   \n",
       "7  [{'args': {'text': '自動車保険には、以下のような種類があります。\n",
       "\n",
       "1....       4            0   \n",
       "8  [{'args': {'text': 'O seguro de saúde em Portu...       5            0   \n",
       "9  [{'args': {'text': 'बीमा एक वित्तीय सुरक्षा का...       6            0   \n",
       "\n",
       "   total_cost  \n",
       "0         0.0  \n",
       "1         0.0  \n",
       "2         0.0  \n",
       "3         0.0  \n",
       "4         0.0  \n",
       "5         0.0  \n",
       "6         0.0  \n",
       "7         0.0  \n",
       "8         0.0  \n",
       "9         0.0  \n",
       "\n",
       "[10 rows x 22 columns]"
      ]
     },
     "execution_count": 23,
     "metadata": {},
     "output_type": "execute_result"
    }
   ],
   "source": [
    "tru.get_records_and_feedback(app_ids=[])[0]"
   ]
  },
  {
   "cell_type": "markdown",
   "metadata": {},
   "source": [
    "### Understanding Context"
   ]
  },
  {
   "cell_type": "code",
   "execution_count": 27,
   "metadata": {},
   "outputs": [
    {
     "data": {
      "text/plain": [
       "[{'args': {'text': 'बीमा एक वित्तीय सुरक्षा का उपाय होता है जो व्यक्ति या संगठन को अपनी संपत्ति, स्वास्थ्य, जीवन या वाहन आदि के खतरों से सुरक्षित रखने में मदद करता है। बीमा एक समझौता होता है जिसमें बीमा निधि या कंपनी व्यक्ति या संगठन के लिए एक निश्चित राशि के बदले में उनकी संपत्ति के नुकसान को भुगतने की गारंटी देती है।\\n\\nबीमा कई प्रकार का होता है, जैसे कि जीवन बीमा, स्वास्थ्य बीमा, वाहन बीमा, घर की बीमा, व्यापार बीमा आदि। इनमें से प्रत्येक बीमा प्रकार अपने विशेषताओं और शर्तों के साथ आता है जो उसके उपयोगकर्ता को उसकी आवश्यकताओं के अनुसार चुनने की सुविधा देता है।'},\n",
       "  'ret': 0.9,\n",
       "  'meta': {'reason': 'Criteria: Coherence, structure, and organization\\nSupporting Evidence: The submission is well-structured and organized. It starts with a clear definition of insurance and its purpose, followed by a brief explanation of how insurance works. The author then goes on to list different types of insurance and their unique features and conditions. The submission is coherent and easy to follow, with each paragraph building on the previous one. The only reason for not giving a perfect score is that the submission could have been more concise and to the point.'}}]"
      ]
     },
     "execution_count": 27,
     "metadata": {},
     "output_type": "execute_result"
    }
   ],
   "source": [
    "tru.get_records_and_feedback(app_ids=[])[0]['Coherence_calls'].iloc[9]"
   ]
  },
  {
   "cell_type": "markdown",
   "metadata": {},
   "source": [
    "## Evaluation in RAG"
   ]
  },
  {
   "cell_type": "code",
   "execution_count": 28,
   "metadata": {},
   "outputs": [],
   "source": [
    "# Imports main tools:\n",
    "from trulens_eval import TruChain, Feedback, Tru\n",
    "tru = Tru()\n",
    "tru.reset_database()\n",
    "\n",
    "# Imports from langchain to build app\n",
    "import bs4\n",
    "from langchain import hub\n",
    "from langchain.chat_models import ChatOpenAI\n",
    "from langchain.document_loaders import WebBaseLoader\n",
    "from langchain.embeddings import OpenAIEmbeddings\n",
    "from langchain.schema import StrOutputParser\n",
    "from langchain.text_splitter import RecursiveCharacterTextSplitter\n",
    "from langchain.vectorstores import Chroma\n",
    "from langchain_core.runnables import RunnablePassthrough"
   ]
  },
  {
   "cell_type": "code",
   "execution_count": 30,
   "metadata": {},
   "outputs": [],
   "source": [
    "from langchain_openai import AzureChatOpenAI\n",
    "from langchain.vectorstores import FAISS\n",
    "from langchain_openai import AzureOpenAIEmbeddings\n",
    "embeddings = AzureOpenAIEmbeddings(\n",
    "    azure_deployment='text-embedding-ada-002'\n",
    ")"
   ]
  },
  {
   "cell_type": "markdown",
   "metadata": {},
   "source": [
    "### Vector DB"
   ]
  },
  {
   "cell_type": "code",
   "execution_count": 45,
   "metadata": {},
   "outputs": [],
   "source": [
    "from langchain.text_splitter import CharacterTextSplitter\n",
    "from langchain_community.document_loaders import TextLoader\n",
    "from langchain_community.vectorstores import FAISS\n",
    "from langchain_openai import OpenAIEmbeddings\n",
    "\n",
    "loader = TextLoader(\"input/Harry Potter 3 Prisoner of Azkaban.txt\")\n",
    "documents = loader.load()\n",
    "text_splitter = CharacterTextSplitter(chunk_size=1000, chunk_overlap=0)\n",
    "docs = text_splitter.split_documents(documents)\n",
    "db = FAISS.from_documents(docs, embeddings)\n"
   ]
  },
  {
   "cell_type": "code",
   "execution_count": 46,
   "metadata": {},
   "outputs": [],
   "source": [
    "db.save_local(\"input/vectordb/Harry_Potter_3\")"
   ]
  },
  {
   "cell_type": "markdown",
   "metadata": {},
   "source": [
    "Or Fetch From Local"
   ]
  },
  {
   "cell_type": "code",
   "execution_count": 47,
   "metadata": {},
   "outputs": [],
   "source": [
    "vectorstore = FAISS.load_local('input/vectordb/Harry_Potter_3', embeddings)"
   ]
  },
  {
   "cell_type": "markdown",
   "metadata": {},
   "source": [
    "### Langchain retriver"
   ]
  },
  {
   "cell_type": "code",
   "execution_count": 48,
   "metadata": {},
   "outputs": [],
   "source": [
    "retriever = vectorstore.as_retriever()\n",
    "\n",
    "prompt = hub.pull(\"rlm/rag-prompt\")\n",
    "llm = AzureChatOpenAI(model_name='gpt-35-turbo', temperature=0)\n",
    "# llm = AzureChatOpenAI(model_name='ecv-gpt-4-32k', temperature=0)\n",
    "\n",
    "def format_docs(docs):\n",
    "    return \"\\n\\n\".join(doc.page_content for doc in docs)\n",
    "\n",
    "rag_chain = (\n",
    "    {\"context\": retriever | format_docs, \"question\": RunnablePassthrough()}\n",
    "    | prompt\n",
    "    | llm\n",
    "    | StrOutputParser()\n",
    ")"
   ]
  },
  {
   "cell_type": "code",
   "execution_count": 53,
   "metadata": {},
   "outputs": [
    {
     "name": "stderr",
     "output_type": "stream",
     "text": [
      "Callback class OpenAICallback is registered for handling create but there are no endpoints waiting to receive the result.\n",
      "Callback class OpenAICallback is registered for handling create but there are no endpoints waiting to receive the result.\n"
     ]
    },
    {
     "data": {
      "text/plain": [
       "\"It is unclear from the given context whether James Potter created the patronus charm beside the lake. Harry saw someone on the other bank of the lake and thought it was his father who conjured his patronus, but Dumbledore explained that it was actually Harry himself who conjured it with the help of his father's memory. Lupin then proceeded to teach Harry the Patronus Charm.\""
      ]
     },
     "execution_count": 53,
     "metadata": {},
     "output_type": "execute_result"
    }
   ],
   "source": [
    "rag_chain.invoke(\"Does James Potter created the patronous charm beside the lake?\")"
   ]
  },
  {
   "cell_type": "markdown",
   "metadata": {},
   "source": [
    "### Feedback Function"
   ]
  },
  {
   "cell_type": "code",
   "execution_count": 39,
   "metadata": {},
   "outputs": [
    {
     "name": "stdout",
     "output_type": "stream",
     "text": [
      "✅ In Answer Relevance, input prompt will be set to __record__.main_input or `Select.RecordInput` .\n",
      "✅ In Answer Relevance, input response will be set to __record__.main_output or `Select.RecordOutput` .\n",
      "✅ In qs_relevance, input question will be set to __record__.main_input or `Select.RecordInput` .\n",
      "✅ In qs_relevance, input statement will be set to __record__.app.first.steps.context.first.get_relevant_documents.rets .\n",
      "✅ In groundedness_measure_with_cot_reasons, input source will be set to __record__.app.first.steps.context.first.get_relevant_documents.rets.collect() .\n",
      "✅ In groundedness_measure_with_cot_reasons, input statement will be set to __record__.main_output or `Select.RecordOutput` .\n"
     ]
    }
   ],
   "source": [
    "from trulens_eval.feedback.provider import AzureOpenAI\n",
    "from trulens_eval.feedback import Groundedness\n",
    "\n",
    "import numpy as np\n",
    "# Initialize AzureOpenAI-based feedback function collection class:\n",
    "azopenai = AzureOpenAI(\n",
    "    deployment_name=\"gpt-35-turbo\")\n",
    "\n",
    "# Question/answer relevance between overall question and answer.\n",
    "f_qa_relevance = Feedback(azopenai.relevance, name = \"Answer Relevance\").on_input_output()\n",
    "\n",
    "from trulens_eval.app import App\n",
    "context = App.select_context(rag_chain)\n",
    "# Question/statement relevance between question and each context chunk.\n",
    "f_context_relevance = (\n",
    "    Feedback(azopenai.qs_relevance)\n",
    "    .on_input()\n",
    "    .on(context)\n",
    "    .aggregate(np.mean)\n",
    ")\n",
    "\n",
    "# groundedness of output on the context\n",
    "# Read the prompts here trulens_eval/trulens_eval/feedback/prompts.py\n",
    "groundedness = Groundedness(groundedness_provider=azopenai)\n",
    "f_groundedness = (\n",
    "    Feedback(groundedness.groundedness_measure_with_cot_reasons)\n",
    "    .on(context.collect()) # collect context chunks into a list\n",
    "    .on_output()\n",
    "    .aggregate(groundedness.grounded_statements_aggregator)\n",
    ")"
   ]
  },
  {
   "cell_type": "code",
   "execution_count": 40,
   "metadata": {},
   "outputs": [],
   "source": [
    "tru_recorder = TruChain(rag_chain,\n",
    "    app_id='Chain1_ChatApplication',\n",
    "    feedbacks=[f_qa_relevance, f_context_relevance, f_groundedness])"
   ]
  },
  {
   "cell_type": "code",
   "execution_count": 54,
   "metadata": {},
   "outputs": [
    {
     "name": "stderr",
     "output_type": "stream",
     "text": [
      "A new object of type <class 'langchain_core.runnables.base.RunnableSequence'> at 0x12a278870 is calling an instrumented method <function RunnableSequence.invoke at 0x14f80b420>. The path of this call may be incorrect.\n",
      "Guessing path of new object is app based on other object (0x129d53e80) using this function.\n",
      "A new object of type <class 'langchain_core.runnables.base.RunnableParallel'> at 0x12a160a00 is calling an instrumented method <function RunnableParallel.invoke at 0x14f820720>. The path of this call may be incorrect.\n",
      "Guessing path of new object is app.first based on other object (0x129d534d0) using this function.\n",
      "A new object of type <class 'langchain_core.runnables.base.RunnableSequence'> at 0x12a163d40 is calling an instrumented method <function RunnableSequence.invoke at 0x14f80b420>. The path of this call may be incorrect.\n",
      "Guessing path of new object is app based on other object (0x129d53e80) using this function.\n",
      "A new object of type <class 'langchain_core.runnables.passthrough.RunnablePassthrough'> at 0x12a278b90 is calling an instrumented method <function RunnablePassthrough.invoke at 0x14f8276a0>. The path of this call may be incorrect.\n",
      "Guessing path of new object is app.first.steps.question based on other object (0x128bde8f0) using this function.\n",
      "A new object of type <class 'langchain_core.vectorstores.VectorStoreRetriever'> at 0x12a161590 is calling an instrumented method <function BaseRetriever.invoke at 0x16c2b5f80>. The path of this call may be incorrect.\n",
      "Guessing path of new object is app.first.steps.context.first based on other object (0x128338e10) using this function.\n",
      "A new object of type <class 'langchain_core.vectorstores.VectorStoreRetriever'> at 0x12a161590 is calling an instrumented method <function BaseRetriever.get_relevant_documents at 0x16c2b6200>. The path of this call may be incorrect.\n",
      "Guessing path of new object is app.first.steps.context.first based on other object (0x128338e10) using this function.\n",
      "A new object of type <class 'langchain_core.vectorstores.VectorStoreRetriever'> at 0x12a161590 is calling an instrumented method <function VectorStoreRetriever._get_relevant_documents at 0x284d3a660>. The path of this call may be incorrect.\n",
      "Guessing path of new object is app.first.steps.context.first based on other object (0x128338e10) using this function.\n",
      "A new object of type <class 'langchain_core.prompts.chat.ChatPromptTemplate'> at 0x12a17d630 is calling an instrumented method <function BasePromptTemplate.invoke at 0x16c2234c0>. The path of this call may be incorrect.\n",
      "Guessing path of new object is app.middle[0] based on other object (0x1281ca710) using this function.\n",
      "A new object of type <class 'langchain_openai.chat_models.azure.AzureChatOpenAI'> at 0x12c191540 is calling an instrumented method <function BaseChatModel.invoke at 0x14fadb240>. The path of this call may be incorrect.\n",
      "Guessing path of new object is app.middle[1] based on other object (0x102eec0a0) using this function.\n",
      "A new object of type <class 'langchain_core.output_parsers.string.StrOutputParser'> at 0x12a11f7a0 is calling an instrumented method <function BaseOutputParser.invoke at 0x14fc0d9e0>. The path of this call may be incorrect.\n",
      "Guessing path of new object is app.last based on other object (0x129d53520) using this function.\n"
     ]
    }
   ],
   "source": [
    "with tru_recorder as recording:\n",
    "    llm_response = rag_chain.invoke(\"Does James Potter created the patronous charm beside the lake?\")"
   ]
  },
  {
   "cell_type": "code",
   "execution_count": 55,
   "metadata": {},
   "outputs": [],
   "source": [
    "rec = recording.get()"
   ]
  },
  {
   "cell_type": "markdown",
   "metadata": {},
   "source": [
    "### Evaluation"
   ]
  },
  {
   "cell_type": "code",
   "execution_count": 56,
   "metadata": {},
   "outputs": [
    {
     "name": "stdout",
     "output_type": "stream",
     "text": [
      "Answer Relevance 0.8\n",
      "qs_relevance 0.8\n",
      "groundedness_measure_with_cot_reasons 0.9\n"
     ]
    }
   ],
   "source": [
    "for feedback, feedback_result in rec.wait_for_feedback_results().items():\n",
    "    print(feedback.name, feedback_result.result)"
   ]
  },
  {
   "cell_type": "code",
   "execution_count": 60,
   "metadata": {},
   "outputs": [
    {
     "data": {
      "text/html": [
       "<div>\n",
       "<style scoped>\n",
       "    .dataframe tbody tr th:only-of-type {\n",
       "        vertical-align: middle;\n",
       "    }\n",
       "\n",
       "    .dataframe tbody tr th {\n",
       "        vertical-align: top;\n",
       "    }\n",
       "\n",
       "    .dataframe thead th {\n",
       "        text-align: right;\n",
       "    }\n",
       "</style>\n",
       "<table border=\"1\" class=\"dataframe\">\n",
       "  <thead>\n",
       "    <tr style=\"text-align: right;\">\n",
       "      <th></th>\n",
       "      <th>app_id</th>\n",
       "      <th>app_json</th>\n",
       "      <th>type</th>\n",
       "      <th>record_id</th>\n",
       "      <th>input</th>\n",
       "      <th>output</th>\n",
       "      <th>tags</th>\n",
       "      <th>record_json</th>\n",
       "      <th>cost_json</th>\n",
       "      <th>perf_json</th>\n",
       "      <th>ts</th>\n",
       "      <th>Answer Relevance</th>\n",
       "      <th>qs_relevance</th>\n",
       "      <th>groundedness_measure_with_cot_reasons</th>\n",
       "      <th>Answer Relevance_calls</th>\n",
       "      <th>qs_relevance_calls</th>\n",
       "      <th>groundedness_measure_with_cot_reasons_calls</th>\n",
       "      <th>latency</th>\n",
       "      <th>total_tokens</th>\n",
       "      <th>total_cost</th>\n",
       "    </tr>\n",
       "  </thead>\n",
       "  <tbody>\n",
       "    <tr>\n",
       "      <th>0</th>\n",
       "      <td>Chain1_ChatApplication</td>\n",
       "      <td>{\"tru_class_info\": {\"name\": \"TruChain\", \"modul...</td>\n",
       "      <td>RunnableSequence(langchain_core.runnables.base)</td>\n",
       "      <td>record_hash_194abe6538eb099f8ad0510eb286cc92</td>\n",
       "      <td>\"Does the solution handle archiving of invoices?\"</td>\n",
       "      <td>\"The eComply and Verify solution does support ...</td>\n",
       "      <td>-</td>\n",
       "      <td>{\"record_id\": \"record_hash_194abe6538eb099f8ad...</td>\n",
       "      <td>{\"n_requests\": 2, \"n_successful_requests\": 2, ...</td>\n",
       "      <td>{\"start_time\": \"2024-02-17T14:51:30.488391\", \"...</td>\n",
       "      <td>2024-02-17T14:51:31.861100</td>\n",
       "      <td>0.7</td>\n",
       "      <td>0.9</td>\n",
       "      <td>1.0</td>\n",
       "      <td>[{'args': {'prompt': 'Does the solution handle...</td>\n",
       "      <td>[{'args': {'question': 'Does the solution hand...</td>\n",
       "      <td>[{'args': {'source': [[{'page_content': 'Clien...</td>\n",
       "      <td>1</td>\n",
       "      <td>336</td>\n",
       "      <td>0.000503</td>\n",
       "    </tr>\n",
       "    <tr>\n",
       "      <th>1</th>\n",
       "      <td>Chain1_ChatApplication</td>\n",
       "      <td>{\"tru_class_info\": {\"name\": \"TruChain\", \"modul...</td>\n",
       "      <td>RunnableSequence(langchain_core.runnables.base)</td>\n",
       "      <td>record_hash_dc869e06bc5689113741408203fc2838</td>\n",
       "      <td>\"Does James Potter created the patronous charm...</td>\n",
       "      <td>\"It is unclear from the given context whether ...</td>\n",
       "      <td>-</td>\n",
       "      <td>{\"record_id\": \"record_hash_dc869e06bc568911374...</td>\n",
       "      <td>{\"n_requests\": 2, \"n_successful_requests\": 2, ...</td>\n",
       "      <td>{\"start_time\": \"2024-02-17T15:20:33.815888\", \"...</td>\n",
       "      <td>2024-02-17T15:20:35.619937</td>\n",
       "      <td>0.8</td>\n",
       "      <td>0.8</td>\n",
       "      <td>0.9</td>\n",
       "      <td>[{'args': {'prompt': 'Does James Potter create...</td>\n",
       "      <td>[{'args': {'question': 'Does James Potter crea...</td>\n",
       "      <td>[{'args': {'source': [[{'page_content': 'She t...</td>\n",
       "      <td>1</td>\n",
       "      <td>961</td>\n",
       "      <td>0.001462</td>\n",
       "    </tr>\n",
       "  </tbody>\n",
       "</table>\n",
       "</div>"
      ],
      "text/plain": [
       "                   app_id                                           app_json  \\\n",
       "0  Chain1_ChatApplication  {\"tru_class_info\": {\"name\": \"TruChain\", \"modul...   \n",
       "1  Chain1_ChatApplication  {\"tru_class_info\": {\"name\": \"TruChain\", \"modul...   \n",
       "\n",
       "                                              type  \\\n",
       "0  RunnableSequence(langchain_core.runnables.base)   \n",
       "1  RunnableSequence(langchain_core.runnables.base)   \n",
       "\n",
       "                                      record_id  \\\n",
       "0  record_hash_194abe6538eb099f8ad0510eb286cc92   \n",
       "1  record_hash_dc869e06bc5689113741408203fc2838   \n",
       "\n",
       "                                               input  \\\n",
       "0  \"Does the solution handle archiving of invoices?\"   \n",
       "1  \"Does James Potter created the patronous charm...   \n",
       "\n",
       "                                              output tags  \\\n",
       "0  \"The eComply and Verify solution does support ...    -   \n",
       "1  \"It is unclear from the given context whether ...    -   \n",
       "\n",
       "                                         record_json  \\\n",
       "0  {\"record_id\": \"record_hash_194abe6538eb099f8ad...   \n",
       "1  {\"record_id\": \"record_hash_dc869e06bc568911374...   \n",
       "\n",
       "                                           cost_json  \\\n",
       "0  {\"n_requests\": 2, \"n_successful_requests\": 2, ...   \n",
       "1  {\"n_requests\": 2, \"n_successful_requests\": 2, ...   \n",
       "\n",
       "                                           perf_json  \\\n",
       "0  {\"start_time\": \"2024-02-17T14:51:30.488391\", \"...   \n",
       "1  {\"start_time\": \"2024-02-17T15:20:33.815888\", \"...   \n",
       "\n",
       "                           ts  Answer Relevance  qs_relevance  \\\n",
       "0  2024-02-17T14:51:31.861100               0.7           0.9   \n",
       "1  2024-02-17T15:20:35.619937               0.8           0.8   \n",
       "\n",
       "   groundedness_measure_with_cot_reasons  \\\n",
       "0                                    1.0   \n",
       "1                                    0.9   \n",
       "\n",
       "                              Answer Relevance_calls  \\\n",
       "0  [{'args': {'prompt': 'Does the solution handle...   \n",
       "1  [{'args': {'prompt': 'Does James Potter create...   \n",
       "\n",
       "                                  qs_relevance_calls  \\\n",
       "0  [{'args': {'question': 'Does the solution hand...   \n",
       "1  [{'args': {'question': 'Does James Potter crea...   \n",
       "\n",
       "         groundedness_measure_with_cot_reasons_calls  latency  total_tokens  \\\n",
       "0  [{'args': {'source': [[{'page_content': 'Clien...        1           336   \n",
       "1  [{'args': {'source': [[{'page_content': 'She t...        1           961   \n",
       "\n",
       "   total_cost  \n",
       "0    0.000503  \n",
       "1    0.001462  "
      ]
     },
     "execution_count": 60,
     "metadata": {},
     "output_type": "execute_result"
    }
   ],
   "source": [
    "records, feedback = tru.get_records_and_feedback(app_ids=[\"Chain1_ChatApplication\"])\n",
    "records.head()"
   ]
  }
 ],
 "metadata": {
  "kernelspec": {
   "display_name": "trulens kernal",
   "language": "python",
   "name": "myenv"
  },
  "language_info": {
   "codemirror_mode": {
    "name": "ipython",
    "version": 3
   },
   "file_extension": ".py",
   "mimetype": "text/x-python",
   "name": "python",
   "nbconvert_exporter": "python",
   "pygments_lexer": "ipython3",
   "version": "3.11.4"
  }
 },
 "nbformat": 4,
 "nbformat_minor": 2
}
