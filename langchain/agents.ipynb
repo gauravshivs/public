{
 "cells": [
  {
   "cell_type": "code",
   "execution_count": 2,
   "metadata": {},
   "outputs": [],
   "source": [
    "from langchain.llms import OpenAI\n",
    "import os\n",
    "from langchain.prompts import PromptTemplate\n",
    "os.environ[\"OPENAI_API_KEY\"] = '<open-ai-key>'"
   ]
  },
  {
   "cell_type": "markdown",
   "metadata": {},
   "source": [
    "## Agents"
   ]
  },
  {
   "cell_type": "code",
   "execution_count": 3,
   "metadata": {},
   "outputs": [
    {
     "name": "stdout",
     "output_type": "stream",
     "text": [
      "\n",
      "\n",
      "\u001b[1m> Entering new AgentExecutor chain...\u001b[0m\n",
      "\u001b[32;1m\u001b[1;3m\n",
      "Invoking: `Search` with `{'tool_input': 'current president of Ireland'}`\n",
      "\n",
      "\n",
      "\u001b[0m\u001b[36;1m\u001b[1;3mMichael D. Higgins\u001b[0m\u001b[32;1m\u001b[1;3m\n",
      "Invoking: `Search` with `{'tool_input': 'next election in Ireland'}`\n",
      "\n",
      "\n",
      "\u001b[0m\u001b[36;1m\u001b[1;3m[\"The next Irish general election will be held by March 2025 to elect the 34th Dáil, the lower house of Ireland's parliament, the Oireachtas. It will elect TDs across Dáil constituencies of between 3 and 5 seats.\", 'Irish General Election, 2025 location: Ireland.', \"The next Irish general election will be held by March 2025 to elect the 34th Dáil, the lower house of Ireland's parliament, the Oireachtas.\"]\u001b[0m\u001b[32;1m\u001b[1;3mThe current president of Ireland is Michael D. Higgins. The next general election in Ireland will be held by March 2025 to elect the 34th Dáil, the lower house of Ireland's parliament, the Oireachtas.\u001b[0m\n",
      "\n",
      "\u001b[1m> Finished chain.\u001b[0m\n"
     ]
    },
    {
     "data": {
      "text/plain": [
       "\"The current president of Ireland is Michael D. Higgins. The next general election in Ireland will be held by March 2025 to elect the 34th Dáil, the lower house of Ireland's parliament, the Oireachtas.\""
      ]
     },
     "execution_count": 3,
     "metadata": {},
     "output_type": "execute_result"
    }
   ],
   "source": [
    "from langchain.utilities import SerpAPIWrapper\n",
    "from langchain.agents import initialize_agent, Tool\n",
    "from langchain.agents import AgentType\n",
    "from langchain.chat_models import ChatOpenAI\n",
    "\n",
    "import getpass\n",
    "import os\n",
    "\n",
    "##os.environ[\"SERPAPI_API_KEY\"] = getpass.getpass()\n",
    "os.environ[\"SERPAPI_API_KEY\"] = '<serp-api-key>'\n",
    "\n",
    "\n",
    "llm = ChatOpenAI(temperature=0, model=\"gpt-3.5-turbo-0613\")\n",
    "search = SerpAPIWrapper()\n",
    "tools = [\n",
    "    Tool(\n",
    "        name=\"Search\",\n",
    "        func=search.run,\n",
    "        description=\"Search the current information.\",\n",
    "    ),\n",
    "]\n",
    "mrkl = initialize_agent(\n",
    "    tools, llm, agent=AgentType.OPENAI_MULTI_FUNCTIONS, verbose=True\n",
    ")\n",
    "mrkl.run(\"Who is the current president of Ireland and when is the next election\")\n"
   ]
  }
 ],
 "metadata": {
  "kernelspec": {
   "display_name": "jupyter_openai",
   "language": "python",
   "name": "jupyter_openai"
  },
  "language_info": {
   "codemirror_mode": {
    "name": "ipython",
    "version": 3
   },
   "file_extension": ".py",
   "mimetype": "text/x-python",
   "name": "python",
   "nbconvert_exporter": "python",
   "pygments_lexer": "ipython3",
   "version": "3.11.4"
  }
 },
 "nbformat": 4,
 "nbformat_minor": 2
}
