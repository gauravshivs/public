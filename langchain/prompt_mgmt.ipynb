{
 "cells": [
  {
   "cell_type": "code",
   "execution_count": 2,
   "metadata": {},
   "outputs": [],
   "source": [
    "from langchain.llms import OpenAI\n",
    "import os\n",
    "from langchain.prompts import PromptTemplate\n",
    "os.environ[\"OPENAI_API_KEY\"] = '<open-ai-key>'"
   ]
  },
  {
   "cell_type": "markdown",
   "metadata": {},
   "source": [
    "## Single Prompt"
   ]
  },
  {
   "cell_type": "code",
   "execution_count": 3,
   "metadata": {},
   "outputs": [
    {
     "data": {
      "text/plain": [
       "'\\n\\n1 + 1 = 2'"
      ]
     },
     "execution_count": 3,
     "metadata": {},
     "output_type": "execute_result"
    }
   ],
   "source": [
    "llm = OpenAI()\n",
    "llm.predict('What is 1 + 1')"
   ]
  },
  {
   "cell_type": "markdown",
   "metadata": {},
   "source": [
    "## Prompt Template"
   ]
  },
  {
   "cell_type": "code",
   "execution_count": 5,
   "metadata": {},
   "outputs": [
    {
     "data": {
      "text/plain": [
       "'\\n\\n1 + 1 = 2.'"
      ]
     },
     "execution_count": 5,
     "metadata": {},
     "output_type": "execute_result"
    }
   ],
   "source": [
    "from langchain.prompts import PromptTemplate\n",
    "prompt_template = PromptTemplate.from_template(\n",
    "    \"What is {statement} .\"\n",
    ")\n",
    "llm.predict(prompt_template.format(statement=\"1 + 1\"))"
   ]
  },
  {
   "cell_type": "markdown",
   "metadata": {},
   "source": [
    "## Few Shot Examples"
   ]
  },
  {
   "cell_type": "code",
   "execution_count": 8,
   "metadata": {},
   "outputs": [
    {
     "data": {
      "text/plain": [
       "' 55'"
      ]
     },
     "execution_count": 8,
     "metadata": {},
     "output_type": "execute_result"
    }
   ],
   "source": [
    "from langchain.prompts.few_shot import FewShotPromptTemplate\n",
    "from langchain.prompts.prompt import PromptTemplate\n",
    "\n",
    "examples = [\n",
    "  {\"statement\": \"1 + 1\", \"output\": \"11\"},\n",
    "  {\"statement\": \"95 + 99\",\"output\": \"9599\"},\n",
    "  {\"statement\": \"2 + 2\",\"output\": \"22\"}\n",
    "]\n",
    "example_prompt = PromptTemplate(\n",
    "        input_variables=[\"statement\",\"output\"], \n",
    "        template=\"Statement : {statement} \\n Output : {output}\")\n",
    "prompt = FewShotPromptTemplate(\n",
    "        examples=examples, \n",
    "        example_prompt=example_prompt,\n",
    "        suffix=\"Statement : {statement} \\n Output : \",\n",
    "        input_variables=[\"statement\"]\n",
    ")\n",
    "llm.predict(prompt.format(statement=\"5 + 5\"))"
   ]
  }
 ],
 "metadata": {
  "kernelspec": {
   "display_name": "jupyter_openai",
   "language": "python",
   "name": "jupyter_openai"
  },
  "language_info": {
   "codemirror_mode": {
    "name": "ipython",
    "version": 3
   },
   "file_extension": ".py",
   "mimetype": "text/x-python",
   "name": "python",
   "nbconvert_exporter": "python",
   "pygments_lexer": "ipython3",
   "version": "3.11.4"
  }
 },
 "nbformat": 4,
 "nbformat_minor": 2
}
