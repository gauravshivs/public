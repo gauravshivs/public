{
 "cells": [
  {
   "cell_type": "code",
   "execution_count": 1,
   "metadata": {},
   "outputs": [],
   "source": [
    "from langchain.llms import OpenAI\n",
    "import os\n",
    "from langchain.prompts import PromptTemplate\n",
    "os.environ[\"OPENAI_API_KEY\"] = '<open-ai-key>'"
   ]
  },
  {
   "cell_type": "markdown",
   "metadata": {},
   "source": [
    "## Data Retrievel"
   ]
  },
  {
   "cell_type": "code",
   "execution_count": 3,
   "metadata": {},
   "outputs": [],
   "source": [
    "from langchain.chains import RetrievalQA\n",
    "from langchain.llms import OpenAI\n",
    "from langchain.document_loaders import TextLoader\n",
    "from langchain.indexes import VectorstoreIndexCreator"
   ]
  },
  {
   "cell_type": "code",
   "execution_count": 4,
   "metadata": {},
   "outputs": [
    {
     "name": "stderr",
     "output_type": "stream",
     "text": [
      "Number of requested results 4 is greater than number of elements in index 2, updating n_results = 2\n"
     ]
    },
    {
     "name": "stdout",
     "output_type": "stream",
     "text": [
      "{'question': 'What did the president say about Americal Dream?', 'answer': ' The president said that the American Dream is dead, but that he will bring it back bigger and better and stronger than ever before if he is elected president.\\n', 'sources': 'input/prez_16June2015.txt'}\n"
     ]
    }
   ],
   "source": [
    "loader1 = TextLoader('input/prez_16June2015.txt', encoding='utf8')\n",
    "loader2 = TextLoader('input/prez_20_Jan2017.txt', encoding='utf8')\n",
    "index = VectorstoreIndexCreator().from_loaders([loader1, loader2])\n",
    "query = \"What did the president say about Americal Dream?\"\n",
    "print(index.query_with_sources(query))"
   ]
  }
 ],
 "metadata": {
  "kernelspec": {
   "display_name": "jupyter_openai",
   "language": "python",
   "name": "jupyter_openai"
  },
  "language_info": {
   "codemirror_mode": {
    "name": "ipython",
    "version": 3
   },
   "file_extension": ".py",
   "mimetype": "text/x-python",
   "name": "python",
   "nbconvert_exporter": "python",
   "pygments_lexer": "ipython3",
   "version": "3.11.4"
  }
 },
 "nbformat": 4,
 "nbformat_minor": 2
}
