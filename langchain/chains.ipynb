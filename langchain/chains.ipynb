{
 "cells": [
  {
   "cell_type": "code",
   "execution_count": 5,
   "metadata": {},
   "outputs": [],
   "source": [
    "from langchain.llms import OpenAI\n",
    "from langchain.prompts import PromptTemplate\n",
    "from langchain.chains import LLMChain\n",
    "from langchain.chains import SimpleSequentialChain\n",
    "from langchain.chains import SequentialChain\n",
    "import os\n",
    "os.environ[\"OPENAI_API_KEY\"] = '<open-ai-key>'"
   ]
  },
  {
   "cell_type": "markdown",
   "metadata": {},
   "source": [
    "## Simple Chain"
   ]
  },
  {
   "cell_type": "code",
   "execution_count": 6,
   "metadata": {},
   "outputs": [
    {
     "name": "stdout",
     "output_type": "stream",
     "text": [
      "\n",
      "\n",
      "The best online platform for tech professionals would depend on their specific needs and interests. Popular online platforms for tech professionals include Stack Overflow, GitHub, Reddit, Slack, Quora, and LinkedIn.\n"
     ]
    }
   ],
   "source": [
    "llm = OpenAI(temperature=0.9)\n",
    "prompt = PromptTemplate(\n",
    "    input_variables=[\"category\"],\n",
    "    template=\"What is the best online platform for {category}?\",\n",
    ")\n",
    "chain = LLMChain(llm=llm, prompt=prompt, output_key=\"platforms\")\n",
    "print(chain.run(\"tech professionals\"))"
   ]
  },
  {
   "cell_type": "markdown",
   "metadata": {},
   "source": [
    "### Simple Sequential Chain"
   ]
  },
  {
   "cell_type": "code",
   "execution_count": 7,
   "metadata": {},
   "outputs": [
    {
     "name": "stdout",
     "output_type": "stream",
     "text": [
      "\n",
      "\n",
      "\u001b[1m> Entering new SimpleSequentialChain chain...\u001b[0m\n",
      "\u001b[36;1m\u001b[1;3m\n",
      "\n",
      "The best online platform for tech professionals is LinkedIn. It is designed to help professionals network and find jobs, and it offers a platform for users to showcase their technical skills and experience. Additionally, LinkedIn has numerous groups and forums dedicated to tech professionals, providing an excellent resource to share knowledge and collaborate.\u001b[0m\n",
      "\u001b[33;1m\u001b[1;3m \n",
      "\n",
      "Other features of LinkedIn include:\n",
      "\n",
      "• Profile Building - Create a comprehensive profile that highlights your professional experience, certifications, and education.\n",
      "\n",
      "• Job Board - Search for job openings in the tech industry.\n",
      "\n",
      "• Groups and Forums - Join groups and forums related to your field of expertise and network with other professionals.\n",
      "\n",
      "• Events - See what events are occurring in the tech world.\n",
      "\n",
      "• Company Directory - Search for tech companies and find more information about their products and services.\n",
      "\n",
      "• InMail - Reach out to contacts directly without knowing their email address.\n",
      "\n",
      "• Professional Services - Get services including content marketing, recruiting, and more.\u001b[0m\n",
      "\n",
      "\u001b[1m> Finished chain.\u001b[0m\n",
      " \n",
      "\n",
      "Other features of LinkedIn include:\n",
      "\n",
      "• Profile Building - Create a comprehensive profile that highlights your professional experience, certifications, and education.\n",
      "\n",
      "• Job Board - Search for job openings in the tech industry.\n",
      "\n",
      "• Groups and Forums - Join groups and forums related to your field of expertise and network with other professionals.\n",
      "\n",
      "• Events - See what events are occurring in the tech world.\n",
      "\n",
      "• Company Directory - Search for tech companies and find more information about their products and services.\n",
      "\n",
      "• InMail - Reach out to contacts directly without knowing their email address.\n",
      "\n",
      "• Professional Services - Get services including content marketing, recruiting, and more.\n"
     ]
    }
   ],
   "source": [
    "feature_template = \"\"\"Tell me the feature of the platforms mentioned here in {platforms}\"\"\"\n",
    "feature_prompt_template = PromptTemplate(input_variables=[\"platforms\"], template=feature_template)\n",
    "feature_chain = LLMChain(llm=llm, prompt=feature_prompt_template)\n",
    "overall_chain = SimpleSequentialChain(chains=[chain, feature_chain], verbose=True)\n",
    "print(overall_chain.run(\"tech professionals\"))"
   ]
  },
  {
   "cell_type": "markdown",
   "metadata": {},
   "source": [
    "### Sequential Chain"
   ]
  },
  {
   "cell_type": "code",
   "execution_count": 8,
   "metadata": {},
   "outputs": [
    {
     "name": "stdout",
     "output_type": "stream",
     "text": [
      "\n",
      "\n",
      "\u001b[1m> Entering new SequentialChain chain...\u001b[0m\n",
      "\n",
      "\u001b[1m> Finished chain.\u001b[0m\n",
      "{'category': 'tech professionals', 'platforms': '\\n\\nThe best online platform for tech professionals is probably Stack Overflow. It is a Q&A platform that allows developers to ask and answer technical questions, share code snippets, and collaborate with other professionals in the industry. It also has an extensive knowledge base and tutorials to help professionals stay up-to-date on the latest technologies.', 'features': '\\n\\nSome of the features of Stack Overflow include:\\n\\n• A comprehensive Q&A platform with a variety of topics\\n• Ability to ask, answer and collaborate with other tech professionals\\n• Ability to share code snippets with others in the community\\n• Extensive knowledge base and tutorials to help stay current\\n• Ability to create a profile and earn reputation points for doing well\\n• Ability to follow and search for topics \\n• Ability to filter content by tags\\n• Ability to flag and report spam, fraud, or offensive content\\n• Monitored and moderated by a team of experts'}\n"
     ]
    }
   ],
   "source": [
    "feature_template = \"\"\"Tell me the feature of the platforms mentioned here in {platforms}\"\"\"\n",
    "feature_prompt_template = PromptTemplate(input_variables=[\"platforms\"], template=feature_template)\n",
    "feature_chain = LLMChain(llm=llm, prompt=feature_prompt_template, output_key=\"features\")\n",
    "overall_chain = SequentialChain(\n",
    "    chains=[chain, feature_chain],\n",
    "    input_variables=[\"category\"],\n",
    "    output_variables=[\"platforms\", \"features\"],\n",
    "    verbose=True)\n",
    "print(overall_chain(\"tech professionals\"))"
   ]
  },
  {
   "cell_type": "markdown",
   "metadata": {},
   "source": [
    "### OpenAI Function Chain"
   ]
  },
  {
   "cell_type": "code",
   "execution_count": 10,
   "metadata": {},
   "outputs": [],
   "source": [
    "from typing import Optional\n",
    "\n",
    "from langchain.chains.openai_functions import (\n",
    "    create_openai_fn_chain,\n",
    "    create_structured_output_chain,\n",
    ")\n",
    "from langchain.chat_models import ChatOpenAI\n",
    "from langchain.prompts import ChatPromptTemplate"
   ]
  },
  {
   "cell_type": "code",
   "execution_count": 11,
   "metadata": {},
   "outputs": [],
   "source": [
    "from langchain.pydantic_v1 import BaseModel, Field\n",
    "\n",
    "\n",
    "class Person(BaseModel):\n",
    "    \"\"\"Identifying information about a person.\"\"\"\n",
    "\n",
    "    name: str = Field(..., description=\"The person's name\")\n",
    "    age: int = Field(..., description=\"The person's age\")\n",
    "    fav_food: Optional[str] = Field(None, description=\"The person's favorite food\")"
   ]
  },
  {
   "cell_type": "code",
   "execution_count": 12,
   "metadata": {},
   "outputs": [
    {
     "name": "stdout",
     "output_type": "stream",
     "text": [
      "\n",
      "\n",
      "\u001b[1m> Entering new LLMChain chain...\u001b[0m\n",
      "Prompt after formatting:\n",
      "\u001b[32;1m\u001b[1;3mSystem: You are a world class algorithm for extracting information in structured formats.\n",
      "Human: Use the given format to extract information from the following input: Adam is 30 and fond of pastries\n",
      "Human: Tip: Make sure to answer in the correct format\u001b[0m\n",
      "\n",
      "\u001b[1m> Finished chain.\u001b[0m\n"
     ]
    },
    {
     "data": {
      "text/plain": [
       "Person(name='Adam', age=30, fav_food='pastries')"
      ]
     },
     "execution_count": 12,
     "metadata": {},
     "output_type": "execute_result"
    }
   ],
   "source": [
    "# If we pass in a model explicitly, we need to make sure it supports the OpenAI function-calling API.\n",
    "llm = ChatOpenAI(model=\"gpt-4\", temperature=0)\n",
    "prompt = ChatPromptTemplate.from_messages(\n",
    "    [\n",
    "        (\"system\", \"You are a world class algorithm for extracting information in structured formats.\"),\n",
    "        (\"human\", \"Use the given format to extract information from the following input: {input}\"),\n",
    "        (\"human\", \"Tip: Make sure to answer in the correct format\"),\n",
    "    ]\n",
    ")\n",
    "\n",
    "chain = create_structured_output_chain(Person, llm, prompt, verbose=True)\n",
    "chain.run(\"Adam is 30 and fond of pastries\")"
   ]
  }
 ],
 "metadata": {
  "kernelspec": {
   "display_name": "jupyter_openai",
   "language": "python",
   "name": "jupyter_openai"
  },
  "language_info": {
   "codemirror_mode": {
    "name": "ipython",
    "version": 3
   },
   "file_extension": ".py",
   "mimetype": "text/x-python",
   "name": "python",
   "nbconvert_exporter": "python",
   "pygments_lexer": "ipython3",
   "version": "3.11.4"
  }
 },
 "nbformat": 4,
 "nbformat_minor": 2
}
